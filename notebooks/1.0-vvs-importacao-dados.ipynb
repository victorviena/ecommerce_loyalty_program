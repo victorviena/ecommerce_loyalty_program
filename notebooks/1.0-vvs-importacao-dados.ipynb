{
 "cells": [
  {
   "cell_type": "markdown",
   "id": "bc74a446-cb57-41d8-94c8-0b9780e9e391",
   "metadata": {
    "heading_collapsed": true,
    "jp-MarkdownHeadingCollapsed": true,
    "tags": []
   },
   "source": [
    "# 1 - Importação de bibliotecas e funções"
   ]
  },
  {
   "cell_type": "markdown",
   "id": "bebfe937-b257-407f-b987-4599248e6965",
   "metadata": {
    "heading_collapsed": true,
    "hidden": true,
    "jp-MarkdownHeadingCollapsed": true,
    "tags": []
   },
   "source": [
    "## Bibliotecas"
   ]
  },
  {
   "cell_type": "code",
   "execution_count": 925,
   "id": "4c8fc1f9-ed2d-42bb-ad17-050bfb2336fe",
   "metadata": {
    "hidden": true,
    "tags": []
   },
   "outputs": [],
   "source": [
    "import pandas as pd\n",
    "import numpy as np\n",
    "import seaborn as sns\n",
    "import matplotlib.pyplot as plt\n",
    "from ydata_profiling import ProfileReport\n",
    "from sklearn.preprocessing import StandardScaler, MinMaxScaler, RobustScaler\n",
    "from sklearn.cluster import KMeans, DBSCAN\n",
    "from sklearn.metrics import silhouette_score\n",
    "import warnings"
   ]
  },
  {
   "cell_type": "markdown",
   "id": "0410f02b-9bb0-4f94-b7d9-0ff205deda36",
   "metadata": {
    "heading_collapsed": true,
    "hidden": true,
    "jp-MarkdownHeadingCollapsed": true,
    "tags": []
   },
   "source": [
    "## Funções"
   ]
  },
  {
   "cell_type": "code",
   "execution_count": null,
   "id": "82207267-60a7-45ff-ab68-495437377143",
   "metadata": {
    "hidden": true,
    "tags": []
   },
   "outputs": [],
   "source": []
  },
  {
   "cell_type": "markdown",
   "id": "9cfd05b8",
   "metadata": {
    "heading_collapsed": true,
    "hidden": true
   },
   "source": [
    "## Configurações"
   ]
  },
  {
   "cell_type": "code",
   "execution_count": 926,
   "id": "59b4c6b0",
   "metadata": {
    "hidden": true
   },
   "outputs": [],
   "source": [
    "warnings.filterwarnings(\"ignore\")"
   ]
  },
  {
   "cell_type": "markdown",
   "id": "cdb7efa2-fb4e-48c7-8cbc-20b5237ebff6",
   "metadata": {
    "heading_collapsed": true,
    "jp-MarkdownHeadingCollapsed": true,
    "tags": []
   },
   "source": [
    "# 2 - Importação dos dados"
   ]
  },
  {
   "cell_type": "code",
   "execution_count": 828,
   "id": "13c78106-bc5e-449c-b9a2-2babb4397181",
   "metadata": {
    "hidden": true,
    "scrolled": false,
    "tags": []
   },
   "outputs": [],
   "source": [
    "df_raw = pd.read_csv(\"C:\\\\Users\\\\victo\\\\repos\\\\comunidade_ds\\\\data_science_clusterizacao\\\\data\\\\raw\\\\raw.csv\", encoding = 'unicode_escape')"
   ]
  },
  {
   "cell_type": "markdown",
   "id": "21fc614c-e5a7-412c-8e9d-7cc9b639591b",
   "metadata": {
    "heading_collapsed": true,
    "jp-MarkdownHeadingCollapsed": true,
    "tags": []
   },
   "source": [
    "# 3 - Descrição dos dados"
   ]
  },
  {
   "cell_type": "code",
   "execution_count": 829,
   "id": "3724a7a2-13b2-4bf8-8d61-eeb5694c983b",
   "metadata": {
    "hidden": true,
    "tags": []
   },
   "outputs": [],
   "source": [
    "df1 = df_raw.copy()"
   ]
  },
  {
   "cell_type": "markdown",
   "id": "51370330-05a7-435b-8ee5-a218f2234106",
   "metadata": {
    "heading_collapsed": true,
    "hidden": true,
    "jp-MarkdownHeadingCollapsed": true,
    "tags": []
   },
   "source": [
    "## Visualização"
   ]
  },
  {
   "cell_type": "code",
   "execution_count": 830,
   "id": "9d083467-b170-4b5d-abe7-595348e6e957",
   "metadata": {
    "hidden": true,
    "scrolled": true,
    "tags": []
   },
   "outputs": [
    {
     "data": {
      "text/html": [
       "<div>\n",
       "<style scoped>\n",
       "    .dataframe tbody tr th:only-of-type {\n",
       "        vertical-align: middle;\n",
       "    }\n",
       "\n",
       "    .dataframe tbody tr th {\n",
       "        vertical-align: top;\n",
       "    }\n",
       "\n",
       "    .dataframe thead th {\n",
       "        text-align: right;\n",
       "    }\n",
       "</style>\n",
       "<table border=\"1\" class=\"dataframe\">\n",
       "  <thead>\n",
       "    <tr style=\"text-align: right;\">\n",
       "      <th></th>\n",
       "      <th>InvoiceNo</th>\n",
       "      <th>StockCode</th>\n",
       "      <th>Description</th>\n",
       "      <th>Quantity</th>\n",
       "      <th>InvoiceDate</th>\n",
       "      <th>UnitPrice</th>\n",
       "      <th>CustomerID</th>\n",
       "      <th>Country</th>\n",
       "      <th>Unnamed: 8</th>\n",
       "    </tr>\n",
       "  </thead>\n",
       "  <tbody>\n",
       "    <tr>\n",
       "      <th>0</th>\n",
       "      <td>536365</td>\n",
       "      <td>85123A</td>\n",
       "      <td>WHITE HANGING HEART T-LIGHT HOLDER</td>\n",
       "      <td>6</td>\n",
       "      <td>29-Nov-16</td>\n",
       "      <td>2.55</td>\n",
       "      <td>17850.0</td>\n",
       "      <td>United Kingdom</td>\n",
       "      <td>NaN</td>\n",
       "    </tr>\n",
       "    <tr>\n",
       "      <th>1</th>\n",
       "      <td>536365</td>\n",
       "      <td>71053</td>\n",
       "      <td>WHITE METAL LANTERN</td>\n",
       "      <td>6</td>\n",
       "      <td>29-Nov-16</td>\n",
       "      <td>3.39</td>\n",
       "      <td>17850.0</td>\n",
       "      <td>United Kingdom</td>\n",
       "      <td>NaN</td>\n",
       "    </tr>\n",
       "    <tr>\n",
       "      <th>2</th>\n",
       "      <td>536365</td>\n",
       "      <td>84406B</td>\n",
       "      <td>CREAM CUPID HEARTS COAT HANGER</td>\n",
       "      <td>8</td>\n",
       "      <td>29-Nov-16</td>\n",
       "      <td>2.75</td>\n",
       "      <td>17850.0</td>\n",
       "      <td>United Kingdom</td>\n",
       "      <td>NaN</td>\n",
       "    </tr>\n",
       "    <tr>\n",
       "      <th>3</th>\n",
       "      <td>536365</td>\n",
       "      <td>84029G</td>\n",
       "      <td>KNITTED UNION FLAG HOT WATER BOTTLE</td>\n",
       "      <td>6</td>\n",
       "      <td>29-Nov-16</td>\n",
       "      <td>3.39</td>\n",
       "      <td>17850.0</td>\n",
       "      <td>United Kingdom</td>\n",
       "      <td>NaN</td>\n",
       "    </tr>\n",
       "    <tr>\n",
       "      <th>4</th>\n",
       "      <td>536365</td>\n",
       "      <td>84029E</td>\n",
       "      <td>RED WOOLLY HOTTIE WHITE HEART.</td>\n",
       "      <td>6</td>\n",
       "      <td>29-Nov-16</td>\n",
       "      <td>3.39</td>\n",
       "      <td>17850.0</td>\n",
       "      <td>United Kingdom</td>\n",
       "      <td>NaN</td>\n",
       "    </tr>\n",
       "    <tr>\n",
       "      <th>5</th>\n",
       "      <td>536365</td>\n",
       "      <td>22752</td>\n",
       "      <td>SET 7 BABUSHKA NESTING BOXES</td>\n",
       "      <td>2</td>\n",
       "      <td>29-Nov-16</td>\n",
       "      <td>7.65</td>\n",
       "      <td>17850.0</td>\n",
       "      <td>United Kingdom</td>\n",
       "      <td>NaN</td>\n",
       "    </tr>\n",
       "    <tr>\n",
       "      <th>6</th>\n",
       "      <td>536365</td>\n",
       "      <td>21730</td>\n",
       "      <td>GLASS STAR FROSTED T-LIGHT HOLDER</td>\n",
       "      <td>6</td>\n",
       "      <td>29-Nov-16</td>\n",
       "      <td>4.25</td>\n",
       "      <td>17850.0</td>\n",
       "      <td>United Kingdom</td>\n",
       "      <td>NaN</td>\n",
       "    </tr>\n",
       "    <tr>\n",
       "      <th>7</th>\n",
       "      <td>536366</td>\n",
       "      <td>22633</td>\n",
       "      <td>HAND WARMER UNION JACK</td>\n",
       "      <td>6</td>\n",
       "      <td>29-Nov-16</td>\n",
       "      <td>1.85</td>\n",
       "      <td>17850.0</td>\n",
       "      <td>United Kingdom</td>\n",
       "      <td>NaN</td>\n",
       "    </tr>\n",
       "    <tr>\n",
       "      <th>8</th>\n",
       "      <td>536366</td>\n",
       "      <td>22632</td>\n",
       "      <td>HAND WARMER RED POLKA DOT</td>\n",
       "      <td>6</td>\n",
       "      <td>29-Nov-16</td>\n",
       "      <td>1.85</td>\n",
       "      <td>17850.0</td>\n",
       "      <td>United Kingdom</td>\n",
       "      <td>NaN</td>\n",
       "    </tr>\n",
       "    <tr>\n",
       "      <th>9</th>\n",
       "      <td>536367</td>\n",
       "      <td>84879</td>\n",
       "      <td>ASSORTED COLOUR BIRD ORNAMENT</td>\n",
       "      <td>32</td>\n",
       "      <td>29-Nov-16</td>\n",
       "      <td>1.69</td>\n",
       "      <td>13047.0</td>\n",
       "      <td>United Kingdom</td>\n",
       "      <td>NaN</td>\n",
       "    </tr>\n",
       "    <tr>\n",
       "      <th>10</th>\n",
       "      <td>536367</td>\n",
       "      <td>22745</td>\n",
       "      <td>POPPY'S PLAYHOUSE BEDROOM</td>\n",
       "      <td>6</td>\n",
       "      <td>29-Nov-16</td>\n",
       "      <td>2.10</td>\n",
       "      <td>13047.0</td>\n",
       "      <td>United Kingdom</td>\n",
       "      <td>NaN</td>\n",
       "    </tr>\n",
       "    <tr>\n",
       "      <th>11</th>\n",
       "      <td>536367</td>\n",
       "      <td>22748</td>\n",
       "      <td>POPPY'S PLAYHOUSE KITCHEN</td>\n",
       "      <td>6</td>\n",
       "      <td>29-Nov-16</td>\n",
       "      <td>2.10</td>\n",
       "      <td>13047.0</td>\n",
       "      <td>United Kingdom</td>\n",
       "      <td>NaN</td>\n",
       "    </tr>\n",
       "    <tr>\n",
       "      <th>12</th>\n",
       "      <td>536367</td>\n",
       "      <td>22749</td>\n",
       "      <td>FELTCRAFT PRINCESS CHARLOTTE DOLL</td>\n",
       "      <td>8</td>\n",
       "      <td>29-Nov-16</td>\n",
       "      <td>3.75</td>\n",
       "      <td>13047.0</td>\n",
       "      <td>United Kingdom</td>\n",
       "      <td>NaN</td>\n",
       "    </tr>\n",
       "    <tr>\n",
       "      <th>13</th>\n",
       "      <td>536367</td>\n",
       "      <td>22310</td>\n",
       "      <td>IVORY KNITTED MUG COSY</td>\n",
       "      <td>6</td>\n",
       "      <td>29-Nov-16</td>\n",
       "      <td>1.65</td>\n",
       "      <td>13047.0</td>\n",
       "      <td>United Kingdom</td>\n",
       "      <td>NaN</td>\n",
       "    </tr>\n",
       "    <tr>\n",
       "      <th>14</th>\n",
       "      <td>536367</td>\n",
       "      <td>84969</td>\n",
       "      <td>BOX OF 6 ASSORTED COLOUR TEASPOONS</td>\n",
       "      <td>6</td>\n",
       "      <td>29-Nov-16</td>\n",
       "      <td>4.25</td>\n",
       "      <td>13047.0</td>\n",
       "      <td>United Kingdom</td>\n",
       "      <td>NaN</td>\n",
       "    </tr>\n",
       "    <tr>\n",
       "      <th>15</th>\n",
       "      <td>536367</td>\n",
       "      <td>22623</td>\n",
       "      <td>BOX OF VINTAGE JIGSAW BLOCKS</td>\n",
       "      <td>3</td>\n",
       "      <td>29-Nov-16</td>\n",
       "      <td>4.95</td>\n",
       "      <td>13047.0</td>\n",
       "      <td>United Kingdom</td>\n",
       "      <td>NaN</td>\n",
       "    </tr>\n",
       "    <tr>\n",
       "      <th>16</th>\n",
       "      <td>536367</td>\n",
       "      <td>22622</td>\n",
       "      <td>BOX OF VINTAGE ALPHABET BLOCKS</td>\n",
       "      <td>2</td>\n",
       "      <td>29-Nov-16</td>\n",
       "      <td>9.95</td>\n",
       "      <td>13047.0</td>\n",
       "      <td>United Kingdom</td>\n",
       "      <td>NaN</td>\n",
       "    </tr>\n",
       "    <tr>\n",
       "      <th>17</th>\n",
       "      <td>536367</td>\n",
       "      <td>21754</td>\n",
       "      <td>HOME BUILDING BLOCK WORD</td>\n",
       "      <td>3</td>\n",
       "      <td>29-Nov-16</td>\n",
       "      <td>5.95</td>\n",
       "      <td>13047.0</td>\n",
       "      <td>United Kingdom</td>\n",
       "      <td>NaN</td>\n",
       "    </tr>\n",
       "    <tr>\n",
       "      <th>18</th>\n",
       "      <td>536367</td>\n",
       "      <td>21755</td>\n",
       "      <td>LOVE BUILDING BLOCK WORD</td>\n",
       "      <td>3</td>\n",
       "      <td>29-Nov-16</td>\n",
       "      <td>5.95</td>\n",
       "      <td>13047.0</td>\n",
       "      <td>United Kingdom</td>\n",
       "      <td>NaN</td>\n",
       "    </tr>\n",
       "    <tr>\n",
       "      <th>19</th>\n",
       "      <td>536367</td>\n",
       "      <td>21777</td>\n",
       "      <td>RECIPE BOX WITH METAL HEART</td>\n",
       "      <td>4</td>\n",
       "      <td>29-Nov-16</td>\n",
       "      <td>7.95</td>\n",
       "      <td>13047.0</td>\n",
       "      <td>United Kingdom</td>\n",
       "      <td>NaN</td>\n",
       "    </tr>\n",
       "    <tr>\n",
       "      <th>20</th>\n",
       "      <td>536367</td>\n",
       "      <td>48187</td>\n",
       "      <td>DOORMAT NEW ENGLAND</td>\n",
       "      <td>4</td>\n",
       "      <td>29-Nov-16</td>\n",
       "      <td>7.95</td>\n",
       "      <td>13047.0</td>\n",
       "      <td>United Kingdom</td>\n",
       "      <td>NaN</td>\n",
       "    </tr>\n",
       "    <tr>\n",
       "      <th>21</th>\n",
       "      <td>536368</td>\n",
       "      <td>22960</td>\n",
       "      <td>JAM MAKING SET WITH JARS</td>\n",
       "      <td>6</td>\n",
       "      <td>29-Nov-16</td>\n",
       "      <td>4.25</td>\n",
       "      <td>13047.0</td>\n",
       "      <td>United Kingdom</td>\n",
       "      <td>NaN</td>\n",
       "    </tr>\n",
       "    <tr>\n",
       "      <th>22</th>\n",
       "      <td>536368</td>\n",
       "      <td>22913</td>\n",
       "      <td>RED COAT RACK PARIS FASHION</td>\n",
       "      <td>3</td>\n",
       "      <td>29-Nov-16</td>\n",
       "      <td>4.95</td>\n",
       "      <td>13047.0</td>\n",
       "      <td>United Kingdom</td>\n",
       "      <td>NaN</td>\n",
       "    </tr>\n",
       "    <tr>\n",
       "      <th>23</th>\n",
       "      <td>536368</td>\n",
       "      <td>22912</td>\n",
       "      <td>YELLOW COAT RACK PARIS FASHION</td>\n",
       "      <td>3</td>\n",
       "      <td>29-Nov-16</td>\n",
       "      <td>4.95</td>\n",
       "      <td>13047.0</td>\n",
       "      <td>United Kingdom</td>\n",
       "      <td>NaN</td>\n",
       "    </tr>\n",
       "    <tr>\n",
       "      <th>24</th>\n",
       "      <td>536368</td>\n",
       "      <td>22914</td>\n",
       "      <td>BLUE COAT RACK PARIS FASHION</td>\n",
       "      <td>3</td>\n",
       "      <td>29-Nov-16</td>\n",
       "      <td>4.95</td>\n",
       "      <td>13047.0</td>\n",
       "      <td>United Kingdom</td>\n",
       "      <td>NaN</td>\n",
       "    </tr>\n",
       "  </tbody>\n",
       "</table>\n",
       "</div>"
      ],
      "text/plain": [
       "   InvoiceNo StockCode                          Description  Quantity  \\\n",
       "0     536365    85123A   WHITE HANGING HEART T-LIGHT HOLDER         6   \n",
       "1     536365     71053                  WHITE METAL LANTERN         6   \n",
       "2     536365    84406B       CREAM CUPID HEARTS COAT HANGER         8   \n",
       "3     536365    84029G  KNITTED UNION FLAG HOT WATER BOTTLE         6   \n",
       "4     536365    84029E       RED WOOLLY HOTTIE WHITE HEART.         6   \n",
       "5     536365     22752         SET 7 BABUSHKA NESTING BOXES         2   \n",
       "6     536365     21730    GLASS STAR FROSTED T-LIGHT HOLDER         6   \n",
       "7     536366     22633               HAND WARMER UNION JACK         6   \n",
       "8     536366     22632            HAND WARMER RED POLKA DOT         6   \n",
       "9     536367     84879        ASSORTED COLOUR BIRD ORNAMENT        32   \n",
       "10    536367     22745           POPPY'S PLAYHOUSE BEDROOM          6   \n",
       "11    536367     22748            POPPY'S PLAYHOUSE KITCHEN         6   \n",
       "12    536367     22749    FELTCRAFT PRINCESS CHARLOTTE DOLL         8   \n",
       "13    536367     22310              IVORY KNITTED MUG COSY          6   \n",
       "14    536367     84969   BOX OF 6 ASSORTED COLOUR TEASPOONS         6   \n",
       "15    536367     22623        BOX OF VINTAGE JIGSAW BLOCKS          3   \n",
       "16    536367     22622       BOX OF VINTAGE ALPHABET BLOCKS         2   \n",
       "17    536367     21754             HOME BUILDING BLOCK WORD         3   \n",
       "18    536367     21755             LOVE BUILDING BLOCK WORD         3   \n",
       "19    536367     21777          RECIPE BOX WITH METAL HEART         4   \n",
       "20    536367     48187                  DOORMAT NEW ENGLAND         4   \n",
       "21    536368     22960             JAM MAKING SET WITH JARS         6   \n",
       "22    536368     22913          RED COAT RACK PARIS FASHION         3   \n",
       "23    536368     22912       YELLOW COAT RACK PARIS FASHION         3   \n",
       "24    536368     22914         BLUE COAT RACK PARIS FASHION         3   \n",
       "\n",
       "   InvoiceDate  UnitPrice  CustomerID         Country  Unnamed: 8  \n",
       "0    29-Nov-16       2.55     17850.0  United Kingdom         NaN  \n",
       "1    29-Nov-16       3.39     17850.0  United Kingdom         NaN  \n",
       "2    29-Nov-16       2.75     17850.0  United Kingdom         NaN  \n",
       "3    29-Nov-16       3.39     17850.0  United Kingdom         NaN  \n",
       "4    29-Nov-16       3.39     17850.0  United Kingdom         NaN  \n",
       "5    29-Nov-16       7.65     17850.0  United Kingdom         NaN  \n",
       "6    29-Nov-16       4.25     17850.0  United Kingdom         NaN  \n",
       "7    29-Nov-16       1.85     17850.0  United Kingdom         NaN  \n",
       "8    29-Nov-16       1.85     17850.0  United Kingdom         NaN  \n",
       "9    29-Nov-16       1.69     13047.0  United Kingdom         NaN  \n",
       "10   29-Nov-16       2.10     13047.0  United Kingdom         NaN  \n",
       "11   29-Nov-16       2.10     13047.0  United Kingdom         NaN  \n",
       "12   29-Nov-16       3.75     13047.0  United Kingdom         NaN  \n",
       "13   29-Nov-16       1.65     13047.0  United Kingdom         NaN  \n",
       "14   29-Nov-16       4.25     13047.0  United Kingdom         NaN  \n",
       "15   29-Nov-16       4.95     13047.0  United Kingdom         NaN  \n",
       "16   29-Nov-16       9.95     13047.0  United Kingdom         NaN  \n",
       "17   29-Nov-16       5.95     13047.0  United Kingdom         NaN  \n",
       "18   29-Nov-16       5.95     13047.0  United Kingdom         NaN  \n",
       "19   29-Nov-16       7.95     13047.0  United Kingdom         NaN  \n",
       "20   29-Nov-16       7.95     13047.0  United Kingdom         NaN  \n",
       "21   29-Nov-16       4.25     13047.0  United Kingdom         NaN  \n",
       "22   29-Nov-16       4.95     13047.0  United Kingdom         NaN  \n",
       "23   29-Nov-16       4.95     13047.0  United Kingdom         NaN  \n",
       "24   29-Nov-16       4.95     13047.0  United Kingdom         NaN  "
      ]
     },
     "execution_count": 830,
     "metadata": {},
     "output_type": "execute_result"
    }
   ],
   "source": [
    "df1.head(25)"
   ]
  },
  {
   "cell_type": "code",
   "execution_count": 831,
   "id": "fc6c4229",
   "metadata": {
    "hidden": true,
    "scrolled": true,
    "tags": []
   },
   "outputs": [
    {
     "data": {
      "text/html": [
       "<div>\n",
       "<style scoped>\n",
       "    .dataframe tbody tr th:only-of-type {\n",
       "        vertical-align: middle;\n",
       "    }\n",
       "\n",
       "    .dataframe tbody tr th {\n",
       "        vertical-align: top;\n",
       "    }\n",
       "\n",
       "    .dataframe thead th {\n",
       "        text-align: right;\n",
       "    }\n",
       "</style>\n",
       "<table border=\"1\" class=\"dataframe\">\n",
       "  <thead>\n",
       "    <tr style=\"text-align: right;\">\n",
       "      <th></th>\n",
       "      <th>InvoiceNo</th>\n",
       "      <th>StockCode</th>\n",
       "      <th>Description</th>\n",
       "      <th>Quantity</th>\n",
       "      <th>InvoiceDate</th>\n",
       "      <th>UnitPrice</th>\n",
       "      <th>CustomerID</th>\n",
       "      <th>Country</th>\n",
       "      <th>Unnamed: 8</th>\n",
       "    </tr>\n",
       "  </thead>\n",
       "  <tbody>\n",
       "    <tr>\n",
       "      <th>541884</th>\n",
       "      <td>581585</td>\n",
       "      <td>84946</td>\n",
       "      <td>ANTIQUE SILVER T-LIGHT GLASS</td>\n",
       "      <td>12</td>\n",
       "      <td>7-Dec-17</td>\n",
       "      <td>1.25</td>\n",
       "      <td>15804.0</td>\n",
       "      <td>United Kingdom</td>\n",
       "      <td>NaN</td>\n",
       "    </tr>\n",
       "    <tr>\n",
       "      <th>541885</th>\n",
       "      <td>581585</td>\n",
       "      <td>21684</td>\n",
       "      <td>SMALL MEDINA STAMPED METAL BOWL</td>\n",
       "      <td>12</td>\n",
       "      <td>7-Dec-17</td>\n",
       "      <td>0.85</td>\n",
       "      <td>15804.0</td>\n",
       "      <td>United Kingdom</td>\n",
       "      <td>NaN</td>\n",
       "    </tr>\n",
       "    <tr>\n",
       "      <th>541886</th>\n",
       "      <td>581585</td>\n",
       "      <td>22398</td>\n",
       "      <td>MAGNETS PACK OF 4 SWALLOWS</td>\n",
       "      <td>12</td>\n",
       "      <td>7-Dec-17</td>\n",
       "      <td>0.39</td>\n",
       "      <td>15804.0</td>\n",
       "      <td>United Kingdom</td>\n",
       "      <td>NaN</td>\n",
       "    </tr>\n",
       "    <tr>\n",
       "      <th>541887</th>\n",
       "      <td>581585</td>\n",
       "      <td>23328</td>\n",
       "      <td>SET 6 SCHOOL MILK BOTTLES IN CRATE</td>\n",
       "      <td>4</td>\n",
       "      <td>7-Dec-17</td>\n",
       "      <td>3.75</td>\n",
       "      <td>15804.0</td>\n",
       "      <td>United Kingdom</td>\n",
       "      <td>NaN</td>\n",
       "    </tr>\n",
       "    <tr>\n",
       "      <th>541888</th>\n",
       "      <td>581585</td>\n",
       "      <td>23145</td>\n",
       "      <td>ZINC T-LIGHT HOLDER STAR LARGE</td>\n",
       "      <td>12</td>\n",
       "      <td>7-Dec-17</td>\n",
       "      <td>0.95</td>\n",
       "      <td>15804.0</td>\n",
       "      <td>United Kingdom</td>\n",
       "      <td>NaN</td>\n",
       "    </tr>\n",
       "    <tr>\n",
       "      <th>541889</th>\n",
       "      <td>581585</td>\n",
       "      <td>22466</td>\n",
       "      <td>FAIRY TALE COTTAGE NIGHT LIGHT</td>\n",
       "      <td>12</td>\n",
       "      <td>7-Dec-17</td>\n",
       "      <td>1.95</td>\n",
       "      <td>15804.0</td>\n",
       "      <td>United Kingdom</td>\n",
       "      <td>NaN</td>\n",
       "    </tr>\n",
       "    <tr>\n",
       "      <th>541890</th>\n",
       "      <td>581586</td>\n",
       "      <td>22061</td>\n",
       "      <td>LARGE CAKE STAND  HANGING STRAWBERY</td>\n",
       "      <td>8</td>\n",
       "      <td>7-Dec-17</td>\n",
       "      <td>2.95</td>\n",
       "      <td>13113.0</td>\n",
       "      <td>United Kingdom</td>\n",
       "      <td>NaN</td>\n",
       "    </tr>\n",
       "    <tr>\n",
       "      <th>541891</th>\n",
       "      <td>581586</td>\n",
       "      <td>23275</td>\n",
       "      <td>SET OF 3 HANGING OWLS OLLIE BEAK</td>\n",
       "      <td>24</td>\n",
       "      <td>7-Dec-17</td>\n",
       "      <td>1.25</td>\n",
       "      <td>13113.0</td>\n",
       "      <td>United Kingdom</td>\n",
       "      <td>NaN</td>\n",
       "    </tr>\n",
       "    <tr>\n",
       "      <th>541892</th>\n",
       "      <td>581586</td>\n",
       "      <td>21217</td>\n",
       "      <td>RED RETROSPOT ROUND CAKE TINS</td>\n",
       "      <td>24</td>\n",
       "      <td>7-Dec-17</td>\n",
       "      <td>8.95</td>\n",
       "      <td>13113.0</td>\n",
       "      <td>United Kingdom</td>\n",
       "      <td>NaN</td>\n",
       "    </tr>\n",
       "    <tr>\n",
       "      <th>541893</th>\n",
       "      <td>581586</td>\n",
       "      <td>20685</td>\n",
       "      <td>DOORMAT RED RETROSPOT</td>\n",
       "      <td>10</td>\n",
       "      <td>7-Dec-17</td>\n",
       "      <td>7.08</td>\n",
       "      <td>13113.0</td>\n",
       "      <td>United Kingdom</td>\n",
       "      <td>NaN</td>\n",
       "    </tr>\n",
       "    <tr>\n",
       "      <th>541894</th>\n",
       "      <td>581587</td>\n",
       "      <td>22631</td>\n",
       "      <td>CIRCUS PARADE LUNCH BOX</td>\n",
       "      <td>12</td>\n",
       "      <td>7-Dec-17</td>\n",
       "      <td>1.95</td>\n",
       "      <td>12680.0</td>\n",
       "      <td>France</td>\n",
       "      <td>NaN</td>\n",
       "    </tr>\n",
       "    <tr>\n",
       "      <th>541895</th>\n",
       "      <td>581587</td>\n",
       "      <td>22556</td>\n",
       "      <td>PLASTERS IN TIN CIRCUS PARADE</td>\n",
       "      <td>12</td>\n",
       "      <td>7-Dec-17</td>\n",
       "      <td>1.65</td>\n",
       "      <td>12680.0</td>\n",
       "      <td>France</td>\n",
       "      <td>NaN</td>\n",
       "    </tr>\n",
       "    <tr>\n",
       "      <th>541896</th>\n",
       "      <td>581587</td>\n",
       "      <td>22555</td>\n",
       "      <td>PLASTERS IN TIN STRONGMAN</td>\n",
       "      <td>12</td>\n",
       "      <td>7-Dec-17</td>\n",
       "      <td>1.65</td>\n",
       "      <td>12680.0</td>\n",
       "      <td>France</td>\n",
       "      <td>NaN</td>\n",
       "    </tr>\n",
       "    <tr>\n",
       "      <th>541897</th>\n",
       "      <td>581587</td>\n",
       "      <td>22728</td>\n",
       "      <td>ALARM CLOCK BAKELIKE PINK</td>\n",
       "      <td>4</td>\n",
       "      <td>7-Dec-17</td>\n",
       "      <td>3.75</td>\n",
       "      <td>12680.0</td>\n",
       "      <td>France</td>\n",
       "      <td>NaN</td>\n",
       "    </tr>\n",
       "    <tr>\n",
       "      <th>541898</th>\n",
       "      <td>581587</td>\n",
       "      <td>22727</td>\n",
       "      <td>ALARM CLOCK BAKELIKE RED</td>\n",
       "      <td>4</td>\n",
       "      <td>7-Dec-17</td>\n",
       "      <td>3.75</td>\n",
       "      <td>12680.0</td>\n",
       "      <td>France</td>\n",
       "      <td>NaN</td>\n",
       "    </tr>\n",
       "    <tr>\n",
       "      <th>541899</th>\n",
       "      <td>581587</td>\n",
       "      <td>22726</td>\n",
       "      <td>ALARM CLOCK BAKELIKE GREEN</td>\n",
       "      <td>4</td>\n",
       "      <td>7-Dec-17</td>\n",
       "      <td>3.75</td>\n",
       "      <td>12680.0</td>\n",
       "      <td>France</td>\n",
       "      <td>NaN</td>\n",
       "    </tr>\n",
       "    <tr>\n",
       "      <th>541900</th>\n",
       "      <td>581587</td>\n",
       "      <td>22730</td>\n",
       "      <td>ALARM CLOCK BAKELIKE IVORY</td>\n",
       "      <td>4</td>\n",
       "      <td>7-Dec-17</td>\n",
       "      <td>3.75</td>\n",
       "      <td>12680.0</td>\n",
       "      <td>France</td>\n",
       "      <td>NaN</td>\n",
       "    </tr>\n",
       "    <tr>\n",
       "      <th>541901</th>\n",
       "      <td>581587</td>\n",
       "      <td>22367</td>\n",
       "      <td>CHILDRENS APRON SPACEBOY DESIGN</td>\n",
       "      <td>8</td>\n",
       "      <td>7-Dec-17</td>\n",
       "      <td>1.95</td>\n",
       "      <td>12680.0</td>\n",
       "      <td>France</td>\n",
       "      <td>NaN</td>\n",
       "    </tr>\n",
       "    <tr>\n",
       "      <th>541902</th>\n",
       "      <td>581587</td>\n",
       "      <td>22629</td>\n",
       "      <td>SPACEBOY LUNCH BOX</td>\n",
       "      <td>12</td>\n",
       "      <td>7-Dec-17</td>\n",
       "      <td>1.95</td>\n",
       "      <td>12680.0</td>\n",
       "      <td>France</td>\n",
       "      <td>NaN</td>\n",
       "    </tr>\n",
       "    <tr>\n",
       "      <th>541903</th>\n",
       "      <td>581587</td>\n",
       "      <td>23256</td>\n",
       "      <td>CHILDRENS CUTLERY SPACEBOY</td>\n",
       "      <td>4</td>\n",
       "      <td>7-Dec-17</td>\n",
       "      <td>4.15</td>\n",
       "      <td>12680.0</td>\n",
       "      <td>France</td>\n",
       "      <td>NaN</td>\n",
       "    </tr>\n",
       "    <tr>\n",
       "      <th>541904</th>\n",
       "      <td>581587</td>\n",
       "      <td>22613</td>\n",
       "      <td>PACK OF 20 SPACEBOY NAPKINS</td>\n",
       "      <td>12</td>\n",
       "      <td>7-Dec-17</td>\n",
       "      <td>0.85</td>\n",
       "      <td>12680.0</td>\n",
       "      <td>France</td>\n",
       "      <td>NaN</td>\n",
       "    </tr>\n",
       "    <tr>\n",
       "      <th>541905</th>\n",
       "      <td>581587</td>\n",
       "      <td>22899</td>\n",
       "      <td>CHILDREN'S APRON DOLLY GIRL</td>\n",
       "      <td>6</td>\n",
       "      <td>7-Dec-17</td>\n",
       "      <td>2.10</td>\n",
       "      <td>12680.0</td>\n",
       "      <td>France</td>\n",
       "      <td>NaN</td>\n",
       "    </tr>\n",
       "    <tr>\n",
       "      <th>541906</th>\n",
       "      <td>581587</td>\n",
       "      <td>23254</td>\n",
       "      <td>CHILDRENS CUTLERY DOLLY GIRL</td>\n",
       "      <td>4</td>\n",
       "      <td>7-Dec-17</td>\n",
       "      <td>4.15</td>\n",
       "      <td>12680.0</td>\n",
       "      <td>France</td>\n",
       "      <td>NaN</td>\n",
       "    </tr>\n",
       "    <tr>\n",
       "      <th>541907</th>\n",
       "      <td>581587</td>\n",
       "      <td>23255</td>\n",
       "      <td>CHILDRENS CUTLERY CIRCUS PARADE</td>\n",
       "      <td>4</td>\n",
       "      <td>7-Dec-17</td>\n",
       "      <td>4.15</td>\n",
       "      <td>12680.0</td>\n",
       "      <td>France</td>\n",
       "      <td>NaN</td>\n",
       "    </tr>\n",
       "    <tr>\n",
       "      <th>541908</th>\n",
       "      <td>581587</td>\n",
       "      <td>22138</td>\n",
       "      <td>BAKING SET 9 PIECE RETROSPOT</td>\n",
       "      <td>3</td>\n",
       "      <td>7-Dec-17</td>\n",
       "      <td>4.95</td>\n",
       "      <td>12680.0</td>\n",
       "      <td>France</td>\n",
       "      <td>NaN</td>\n",
       "    </tr>\n",
       "  </tbody>\n",
       "</table>\n",
       "</div>"
      ],
      "text/plain": [
       "       InvoiceNo StockCode                          Description  Quantity  \\\n",
       "541884    581585     84946         ANTIQUE SILVER T-LIGHT GLASS        12   \n",
       "541885    581585     21684     SMALL MEDINA STAMPED METAL BOWL         12   \n",
       "541886    581585     22398           MAGNETS PACK OF 4 SWALLOWS        12   \n",
       "541887    581585     23328   SET 6 SCHOOL MILK BOTTLES IN CRATE         4   \n",
       "541888    581585     23145       ZINC T-LIGHT HOLDER STAR LARGE        12   \n",
       "541889    581585     22466       FAIRY TALE COTTAGE NIGHT LIGHT        12   \n",
       "541890    581586     22061  LARGE CAKE STAND  HANGING STRAWBERY         8   \n",
       "541891    581586     23275     SET OF 3 HANGING OWLS OLLIE BEAK        24   \n",
       "541892    581586     21217        RED RETROSPOT ROUND CAKE TINS        24   \n",
       "541893    581586     20685                DOORMAT RED RETROSPOT        10   \n",
       "541894    581587     22631             CIRCUS PARADE LUNCH BOX         12   \n",
       "541895    581587     22556       PLASTERS IN TIN CIRCUS PARADE         12   \n",
       "541896    581587     22555            PLASTERS IN TIN STRONGMAN        12   \n",
       "541897    581587     22728            ALARM CLOCK BAKELIKE PINK         4   \n",
       "541898    581587     22727            ALARM CLOCK BAKELIKE RED          4   \n",
       "541899    581587     22726           ALARM CLOCK BAKELIKE GREEN         4   \n",
       "541900    581587     22730           ALARM CLOCK BAKELIKE IVORY         4   \n",
       "541901    581587     22367      CHILDRENS APRON SPACEBOY DESIGN         8   \n",
       "541902    581587     22629                  SPACEBOY LUNCH BOX         12   \n",
       "541903    581587     23256          CHILDRENS CUTLERY SPACEBOY          4   \n",
       "541904    581587     22613          PACK OF 20 SPACEBOY NAPKINS        12   \n",
       "541905    581587     22899         CHILDREN'S APRON DOLLY GIRL          6   \n",
       "541906    581587     23254        CHILDRENS CUTLERY DOLLY GIRL          4   \n",
       "541907    581587     23255      CHILDRENS CUTLERY CIRCUS PARADE         4   \n",
       "541908    581587     22138        BAKING SET 9 PIECE RETROSPOT          3   \n",
       "\n",
       "       InvoiceDate  UnitPrice  CustomerID         Country  Unnamed: 8  \n",
       "541884    7-Dec-17       1.25     15804.0  United Kingdom         NaN  \n",
       "541885    7-Dec-17       0.85     15804.0  United Kingdom         NaN  \n",
       "541886    7-Dec-17       0.39     15804.0  United Kingdom         NaN  \n",
       "541887    7-Dec-17       3.75     15804.0  United Kingdom         NaN  \n",
       "541888    7-Dec-17       0.95     15804.0  United Kingdom         NaN  \n",
       "541889    7-Dec-17       1.95     15804.0  United Kingdom         NaN  \n",
       "541890    7-Dec-17       2.95     13113.0  United Kingdom         NaN  \n",
       "541891    7-Dec-17       1.25     13113.0  United Kingdom         NaN  \n",
       "541892    7-Dec-17       8.95     13113.0  United Kingdom         NaN  \n",
       "541893    7-Dec-17       7.08     13113.0  United Kingdom         NaN  \n",
       "541894    7-Dec-17       1.95     12680.0          France         NaN  \n",
       "541895    7-Dec-17       1.65     12680.0          France         NaN  \n",
       "541896    7-Dec-17       1.65     12680.0          France         NaN  \n",
       "541897    7-Dec-17       3.75     12680.0          France         NaN  \n",
       "541898    7-Dec-17       3.75     12680.0          France         NaN  \n",
       "541899    7-Dec-17       3.75     12680.0          France         NaN  \n",
       "541900    7-Dec-17       3.75     12680.0          France         NaN  \n",
       "541901    7-Dec-17       1.95     12680.0          France         NaN  \n",
       "541902    7-Dec-17       1.95     12680.0          France         NaN  \n",
       "541903    7-Dec-17       4.15     12680.0          France         NaN  \n",
       "541904    7-Dec-17       0.85     12680.0          France         NaN  \n",
       "541905    7-Dec-17       2.10     12680.0          France         NaN  \n",
       "541906    7-Dec-17       4.15     12680.0          France         NaN  \n",
       "541907    7-Dec-17       4.15     12680.0          France         NaN  \n",
       "541908    7-Dec-17       4.95     12680.0          France         NaN  "
      ]
     },
     "execution_count": 831,
     "metadata": {},
     "output_type": "execute_result"
    }
   ],
   "source": [
    "df1.tail(25)"
   ]
  },
  {
   "cell_type": "markdown",
   "id": "a61d79b2-082c-4466-818e-128a59189d72",
   "metadata": {
    "heading_collapsed": true,
    "hidden": true,
    "hide_input": false,
    "jp-MarkdownHeadingCollapsed": true,
    "tags": []
   },
   "source": [
    "## Dimensões"
   ]
  },
  {
   "cell_type": "code",
   "execution_count": 832,
   "id": "0784e247",
   "metadata": {
    "hidden": true,
    "scrolled": true
   },
   "outputs": [
    {
     "data": {
      "text/plain": [
       "(541909, 9)"
      ]
     },
     "execution_count": 832,
     "metadata": {},
     "output_type": "execute_result"
    }
   ],
   "source": [
    "df1.shape"
   ]
  },
  {
   "cell_type": "markdown",
   "id": "0a609b61",
   "metadata": {
    "heading_collapsed": true,
    "hidden": true
   },
   "source": [
    "## Colunas"
   ]
  },
  {
   "cell_type": "code",
   "execution_count": 833,
   "id": "59322b6f",
   "metadata": {
    "hidden": true,
    "scrolled": false,
    "tags": []
   },
   "outputs": [
    {
     "data": {
      "text/plain": [
       "Index(['InvoiceNo', 'StockCode', 'Description', 'Quantity', 'InvoiceDate',\n",
       "       'UnitPrice', 'CustomerID', 'Country', 'Unnamed: 8'],\n",
       "      dtype='object')"
      ]
     },
     "execution_count": 833,
     "metadata": {},
     "output_type": "execute_result"
    }
   ],
   "source": [
    "df1.columns"
   ]
  },
  {
   "cell_type": "markdown",
   "id": "74711ea0-fd1f-4193-8d7c-dc22e0011c3b",
   "metadata": {
    "heading_collapsed": true,
    "hidden": true,
    "jp-MarkdownHeadingCollapsed": true,
    "tags": []
   },
   "source": [
    "## Tipos"
   ]
  },
  {
   "cell_type": "code",
   "execution_count": 834,
   "id": "e3caa384-6bdb-4f4c-8488-3ba63df9e2a8",
   "metadata": {
    "hidden": true,
    "scrolled": true,
    "tags": []
   },
   "outputs": [
    {
     "data": {
      "text/plain": [
       "InvoiceNo       object\n",
       "StockCode       object\n",
       "Description     object\n",
       "Quantity         int64\n",
       "InvoiceDate     object\n",
       "UnitPrice      float64\n",
       "CustomerID     float64\n",
       "Country         object\n",
       "Unnamed: 8     float64\n",
       "dtype: object"
      ]
     },
     "execution_count": 834,
     "metadata": {},
     "output_type": "execute_result"
    }
   ],
   "source": [
    "df1.dtypes"
   ]
  },
  {
   "cell_type": "markdown",
   "id": "f176cb41-e1b5-4826-8e6e-de9f35147c5f",
   "metadata": {
    "heading_collapsed": true,
    "hidden": true,
    "jp-MarkdownHeadingCollapsed": true,
    "tags": []
   },
   "source": [
    "## NAs"
   ]
  },
  {
   "cell_type": "code",
   "execution_count": 835,
   "id": "c31cc64b-26e2-4864-9f9d-b41bd073ea5b",
   "metadata": {
    "hidden": true,
    "scrolled": true,
    "tags": []
   },
   "outputs": [
    {
     "data": {
      "text/plain": [
       "InvoiceNo           0\n",
       "StockCode           0\n",
       "Description      1454\n",
       "Quantity            0\n",
       "InvoiceDate         0\n",
       "UnitPrice           0\n",
       "CustomerID     135080\n",
       "Country             0\n",
       "Unnamed: 8     541909\n",
       "dtype: int64"
      ]
     },
     "execution_count": 835,
     "metadata": {},
     "output_type": "execute_result"
    }
   ],
   "source": [
    "df1.isna().sum()"
   ]
  },
  {
   "cell_type": "markdown",
   "id": "5b3c05d6-8971-43b5-808d-398c7122c73a",
   "metadata": {
    "heading_collapsed": true,
    "hidden": true,
    "jp-MarkdownHeadingCollapsed": true,
    "tags": []
   },
   "source": [
    "## Duplicados"
   ]
  },
  {
   "cell_type": "code",
   "execution_count": 836,
   "id": "b2b53f1b-3d15-4c30-8daf-251ab6fa816b",
   "metadata": {
    "hidden": true,
    "tags": []
   },
   "outputs": [
    {
     "data": {
      "text/plain": [
       "541908"
      ]
     },
     "execution_count": 836,
     "metadata": {},
     "output_type": "execute_result"
    }
   ],
   "source": [
    "df1.duplicated(subset=['Unnamed: 8']).sum()"
   ]
  },
  {
   "cell_type": "markdown",
   "id": "f63527f3-30de-4186-abc9-d5329eccf8e0",
   "metadata": {
    "heading_collapsed": true,
    "hidden": true,
    "jp-MarkdownHeadingCollapsed": true,
    "tags": []
   },
   "source": [
    "## Estatísticas"
   ]
  },
  {
   "cell_type": "markdown",
   "id": "648b5427-1cc6-4984-a58e-1c58f6d9ebb7",
   "metadata": {
    "heading_collapsed": true,
    "hidden": true,
    "tags": []
   },
   "source": [
    "### Variáveis numéricas"
   ]
  },
  {
   "cell_type": "code",
   "execution_count": 837,
   "id": "95f6fd25",
   "metadata": {
    "hidden": true
   },
   "outputs": [],
   "source": [
    "variaveis_numericas = ['int64', 'float64']"
   ]
  },
  {
   "cell_type": "markdown",
   "id": "77eef047-4d64-45e3-95b8-262587fbdd03",
   "metadata": {
    "heading_collapsed": true,
    "hidden": true,
    "tags": []
   },
   "source": [
    "#### Medidas de tendência e dispersão"
   ]
  },
  {
   "cell_type": "code",
   "execution_count": 838,
   "id": "6afd3f71",
   "metadata": {
    "hidden": true,
    "hide_input": false,
    "scrolled": true
   },
   "outputs": [
    {
     "data": {
      "text/html": [
       "<div>\n",
       "<style scoped>\n",
       "    .dataframe tbody tr th:only-of-type {\n",
       "        vertical-align: middle;\n",
       "    }\n",
       "\n",
       "    .dataframe tbody tr th {\n",
       "        vertical-align: top;\n",
       "    }\n",
       "\n",
       "    .dataframe thead th {\n",
       "        text-align: right;\n",
       "    }\n",
       "</style>\n",
       "<table border=\"1\" class=\"dataframe\">\n",
       "  <thead>\n",
       "    <tr style=\"text-align: right;\">\n",
       "      <th></th>\n",
       "      <th>count</th>\n",
       "      <th>mean</th>\n",
       "      <th>std</th>\n",
       "      <th>min</th>\n",
       "      <th>25%</th>\n",
       "      <th>50%</th>\n",
       "      <th>75%</th>\n",
       "      <th>max</th>\n",
       "    </tr>\n",
       "  </thead>\n",
       "  <tbody>\n",
       "    <tr>\n",
       "      <th>Quantity</th>\n",
       "      <td>541909.0</td>\n",
       "      <td>9.552250</td>\n",
       "      <td>218.081158</td>\n",
       "      <td>-80995.00</td>\n",
       "      <td>1.00</td>\n",
       "      <td>3.00</td>\n",
       "      <td>10.00</td>\n",
       "      <td>80995.0</td>\n",
       "    </tr>\n",
       "    <tr>\n",
       "      <th>UnitPrice</th>\n",
       "      <td>541909.0</td>\n",
       "      <td>4.611114</td>\n",
       "      <td>96.759853</td>\n",
       "      <td>-11062.06</td>\n",
       "      <td>1.25</td>\n",
       "      <td>2.08</td>\n",
       "      <td>4.13</td>\n",
       "      <td>38970.0</td>\n",
       "    </tr>\n",
       "    <tr>\n",
       "      <th>CustomerID</th>\n",
       "      <td>406829.0</td>\n",
       "      <td>15287.690570</td>\n",
       "      <td>1713.600303</td>\n",
       "      <td>12346.00</td>\n",
       "      <td>13953.00</td>\n",
       "      <td>15152.00</td>\n",
       "      <td>16791.00</td>\n",
       "      <td>18287.0</td>\n",
       "    </tr>\n",
       "    <tr>\n",
       "      <th>Unnamed: 8</th>\n",
       "      <td>0.0</td>\n",
       "      <td>NaN</td>\n",
       "      <td>NaN</td>\n",
       "      <td>NaN</td>\n",
       "      <td>NaN</td>\n",
       "      <td>NaN</td>\n",
       "      <td>NaN</td>\n",
       "      <td>NaN</td>\n",
       "    </tr>\n",
       "  </tbody>\n",
       "</table>\n",
       "</div>"
      ],
      "text/plain": [
       "               count          mean          std       min       25%       50%  \\\n",
       "Quantity    541909.0      9.552250   218.081158 -80995.00      1.00      3.00   \n",
       "UnitPrice   541909.0      4.611114    96.759853 -11062.06      1.25      2.08   \n",
       "CustomerID  406829.0  15287.690570  1713.600303  12346.00  13953.00  15152.00   \n",
       "Unnamed: 8       0.0           NaN          NaN       NaN       NaN       NaN   \n",
       "\n",
       "                 75%      max  \n",
       "Quantity       10.00  80995.0  \n",
       "UnitPrice       4.13  38970.0  \n",
       "CustomerID  16791.00  18287.0  \n",
       "Unnamed: 8       NaN      NaN  "
      ]
     },
     "execution_count": 838,
     "metadata": {},
     "output_type": "execute_result"
    }
   ],
   "source": [
    "df1.select_dtypes(variaveis_numericas).describe().T"
   ]
  },
  {
   "cell_type": "markdown",
   "id": "c431f6c5-fad2-420c-863b-059fc5bd5186",
   "metadata": {
    "heading_collapsed": true,
    "hidden": true,
    "tags": []
   },
   "source": [
    "#### Medidas de distribuição"
   ]
  },
  {
   "cell_type": "code",
   "execution_count": 839,
   "id": "b858c573-82a6-4d0a-8941-1f1bfbc9638b",
   "metadata": {
    "hidden": true,
    "tags": []
   },
   "outputs": [
    {
     "data": {
      "text/plain": [
       "Quantity       -0.264076\n",
       "UnitPrice     186.506972\n",
       "CustomerID      0.029835\n",
       "Unnamed: 8           NaN\n",
       "dtype: float64"
      ]
     },
     "execution_count": 839,
     "metadata": {},
     "output_type": "execute_result"
    }
   ],
   "source": [
    "df1.select_dtypes(variaveis_numericas).skew()"
   ]
  },
  {
   "cell_type": "code",
   "execution_count": 840,
   "id": "43d3135b-06f2-4175-a17b-2785b591732b",
   "metadata": {
    "hidden": true,
    "tags": []
   },
   "outputs": [
    {
     "data": {
      "text/plain": [
       "Quantity      119769.160031\n",
       "UnitPrice      59005.719097\n",
       "CustomerID        -1.179982\n",
       "Unnamed: 8              NaN\n",
       "dtype: float64"
      ]
     },
     "execution_count": 840,
     "metadata": {},
     "output_type": "execute_result"
    }
   ],
   "source": [
    "df1.select_dtypes(variaveis_numericas).kurtosis()"
   ]
  },
  {
   "cell_type": "markdown",
   "id": "faa64f44-eb56-4e35-9b87-4ab59861c53a",
   "metadata": {
    "heading_collapsed": true,
    "hidden": true,
    "tags": []
   },
   "source": [
    "### Variáveis categóricas"
   ]
  },
  {
   "cell_type": "code",
   "execution_count": 841,
   "id": "12d2a646",
   "metadata": {
    "hidden": true
   },
   "outputs": [],
   "source": [
    "variaveis_categoricas = ['object']"
   ]
  },
  {
   "cell_type": "markdown",
   "id": "6e722a2d-5b88-498f-86bf-693df9f2ff6e",
   "metadata": {
    "heading_collapsed": true,
    "hidden": true,
    "tags": []
   },
   "source": [
    "#### Medidas de frequência"
   ]
  },
  {
   "cell_type": "code",
   "execution_count": 842,
   "id": "9da3d99f-b239-4241-8d63-36caa1ea8c53",
   "metadata": {
    "hidden": true,
    "tags": []
   },
   "outputs": [
    {
     "data": {
      "text/html": [
       "<div>\n",
       "<style scoped>\n",
       "    .dataframe tbody tr th:only-of-type {\n",
       "        vertical-align: middle;\n",
       "    }\n",
       "\n",
       "    .dataframe tbody tr th {\n",
       "        vertical-align: top;\n",
       "    }\n",
       "\n",
       "    .dataframe thead th {\n",
       "        text-align: right;\n",
       "    }\n",
       "</style>\n",
       "<table border=\"1\" class=\"dataframe\">\n",
       "  <thead>\n",
       "    <tr style=\"text-align: right;\">\n",
       "      <th></th>\n",
       "      <th>count</th>\n",
       "      <th>unique</th>\n",
       "      <th>top</th>\n",
       "      <th>freq</th>\n",
       "    </tr>\n",
       "  </thead>\n",
       "  <tbody>\n",
       "    <tr>\n",
       "      <th>InvoiceNo</th>\n",
       "      <td>541909</td>\n",
       "      <td>25900</td>\n",
       "      <td>573585</td>\n",
       "      <td>1114</td>\n",
       "    </tr>\n",
       "    <tr>\n",
       "      <th>StockCode</th>\n",
       "      <td>541909</td>\n",
       "      <td>4070</td>\n",
       "      <td>85123A</td>\n",
       "      <td>2313</td>\n",
       "    </tr>\n",
       "    <tr>\n",
       "      <th>Description</th>\n",
       "      <td>540455</td>\n",
       "      <td>4223</td>\n",
       "      <td>WHITE HANGING HEART T-LIGHT HOLDER</td>\n",
       "      <td>2369</td>\n",
       "    </tr>\n",
       "    <tr>\n",
       "      <th>InvoiceDate</th>\n",
       "      <td>541909</td>\n",
       "      <td>305</td>\n",
       "      <td>3-Dec-17</td>\n",
       "      <td>5331</td>\n",
       "    </tr>\n",
       "    <tr>\n",
       "      <th>Country</th>\n",
       "      <td>541909</td>\n",
       "      <td>38</td>\n",
       "      <td>United Kingdom</td>\n",
       "      <td>495478</td>\n",
       "    </tr>\n",
       "  </tbody>\n",
       "</table>\n",
       "</div>"
      ],
      "text/plain": [
       "              count unique                                 top    freq\n",
       "InvoiceNo    541909  25900                              573585    1114\n",
       "StockCode    541909   4070                              85123A    2313\n",
       "Description  540455   4223  WHITE HANGING HEART T-LIGHT HOLDER    2369\n",
       "InvoiceDate  541909    305                            3-Dec-17    5331\n",
       "Country      541909     38                      United Kingdom  495478"
      ]
     },
     "execution_count": 842,
     "metadata": {},
     "output_type": "execute_result"
    }
   ],
   "source": [
    "df1.select_dtypes(variaveis_categoricas).describe().T"
   ]
  },
  {
   "cell_type": "markdown",
   "id": "c30121e7-0e33-47d1-bf72-9ef70c260a69",
   "metadata": {
    "heading_collapsed": true,
    "jp-MarkdownHeadingCollapsed": true,
    "tags": []
   },
   "source": [
    "# 4 - Tratamento dos dados"
   ]
  },
  {
   "cell_type": "code",
   "execution_count": 843,
   "id": "17f9042e-034b-4696-80d3-dfef814b1bf8",
   "metadata": {
    "hidden": true,
    "tags": []
   },
   "outputs": [],
   "source": [
    "df2 = df1.copy()"
   ]
  },
  {
   "cell_type": "markdown",
   "id": "e9b12904-fab6-43d6-a5ed-9473e727d723",
   "metadata": {
    "heading_collapsed": true,
    "hidden": true,
    "tags": []
   },
   "source": [
    "## Renomeação"
   ]
  },
  {
   "cell_type": "code",
   "execution_count": 844,
   "id": "76b35884-e6ad-4049-8d33-66867fc47078",
   "metadata": {
    "code_folding": [],
    "hidden": true,
    "tags": []
   },
   "outputs": [],
   "source": [
    "new_columns_name = ['invoice_no', 'stock_code', 'description', 'quantity', 'invoice_date',\n",
    "       'unit_price', 'customer_id', 'country', 'unnamed_8']\n",
    "\n",
    "df2.columns = new_columns_name"
   ]
  },
  {
   "cell_type": "markdown",
   "id": "f78e5e4e",
   "metadata": {
    "heading_collapsed": true,
    "hidden": true
   },
   "source": [
    "## Exclusão"
   ]
  },
  {
   "cell_type": "markdown",
   "id": "cb44378f",
   "metadata": {
    "heading_collapsed": true,
    "hidden": true
   },
   "source": [
    "### Colunas"
   ]
  },
  {
   "cell_type": "code",
   "execution_count": 845,
   "id": "4356f90b",
   "metadata": {
    "hidden": true
   },
   "outputs": [],
   "source": [
    "# Exclusão da coluna \"unnamed_8\" sem informação\n",
    "\n",
    "df2 = df2.drop(['unnamed_8'], axis=1)"
   ]
  },
  {
   "cell_type": "markdown",
   "id": "1e7a1efe",
   "metadata": {
    "heading_collapsed": true,
    "hidden": true
   },
   "source": [
    "### Linhas"
   ]
  },
  {
   "cell_type": "code",
   "execution_count": 846,
   "id": "9471d285",
   "metadata": {
    "hidden": true,
    "scrolled": true
   },
   "outputs": [],
   "source": [
    "# Exclusão das linhas com \"customer_id\" sem informação\n",
    "\n",
    "df2 = df2.dropna(subset=['customer_id'])\n",
    "\n",
    "\n",
    "# Exclusão das linhas com \"quantity\" negativo\n",
    "\n",
    "df2 = df2.loc[df2[\"quantity\"] > 0 ]\n",
    "\n",
    "\n",
    "# Exclusão das linhas com \"unit_price\" negativo\n",
    "\n",
    "df2 = df2.loc[df2[\"unit_price\"] > 0 ]"
   ]
  },
  {
   "cell_type": "markdown",
   "id": "a49dcace",
   "metadata": {
    "heading_collapsed": true,
    "hidden": true
   },
   "source": [
    "## Transformação"
   ]
  },
  {
   "cell_type": "markdown",
   "id": "d8d56920",
   "metadata": {
    "heading_collapsed": true,
    "hidden": true
   },
   "source": [
    "### Tipo de dado"
   ]
  },
  {
   "cell_type": "code",
   "execution_count": 847,
   "id": "c39e94bd",
   "metadata": {
    "hidden": true,
    "scrolled": true
   },
   "outputs": [],
   "source": [
    "# Transformação da coluna \"invoice_date\" de objeto para data\n",
    "\n",
    "df2['invoice_date'] = pd.to_datetime(df2['invoice_date'])\n",
    "\n",
    "\n",
    "# Transformação da coluna \"customer_id\" de float para objeto\n",
    "\n",
    "df2['customer_id'] = df2['customer_id'].astype(int)\n",
    "df2['customer_id'] = df2['customer_id'].astype(str)"
   ]
  },
  {
   "cell_type": "markdown",
   "id": "65bf7963-387b-4dff-b268-aa766e635050",
   "metadata": {
    "heading_collapsed": true,
    "jp-MarkdownHeadingCollapsed": true,
    "tags": []
   },
   "source": [
    "# 6 - Engenharia de features"
   ]
  },
  {
   "cell_type": "code",
   "execution_count": 890,
   "id": "b9e59d81-6c34-4b3f-a91d-8d69fa228edd",
   "metadata": {
    "hidden": true,
    "tags": []
   },
   "outputs": [],
   "source": [
    "df3 = df2.copy()"
   ]
  },
  {
   "cell_type": "markdown",
   "id": "0c5f0f81-34a2-4cee-9f00-6571fb34491d",
   "metadata": {
    "heading_collapsed": true,
    "hidden": true,
    "jp-MarkdownHeadingCollapsed": true,
    "tags": []
   },
   "source": [
    "## Derivação"
   ]
  },
  {
   "cell_type": "code",
   "execution_count": 891,
   "id": "2e2fdb76-da3f-42cd-a7ef-b91df7a37c75",
   "metadata": {
    "hidden": true
   },
   "outputs": [],
   "source": [
    "# Criação da coluna \"total_amount\"\n",
    "\n",
    "df3['total_amount'] = df3['quantity'] * df3['unit_price']\n",
    "\n",
    "\n",
    "# Criação da coluna \"recency\"\n",
    "\n",
    "dia = pd.to_datetime(\"2017-12-08\")\n",
    "\n",
    "recency = df3.groupby([\"customer_id\"]).agg({\"invoice_date\":lambda x:((dia-x.max()).days)})\n",
    "\n",
    "\n",
    "# Criação da coluna \"frequency\"\n",
    "\n",
    "frequency = df3.drop_duplicates(subset=\"invoice_no\").groupby([\"customer_id\"])[[\"invoice_no\"]].count()\n",
    "\n",
    "\n",
    "# Criação da coluna \"monetary\"\n",
    "\n",
    "monetary = df3.groupby([\"customer_id\"])[[\"total_amount\"]].sum()\n",
    "\n",
    "\n",
    "# Criação do dataframe RFM\n",
    "\n",
    "rfm = pd.concat([recency,frequency,monetary], axis=1).reset_index()\n",
    "\n",
    "rfm.columns = ['customer_id', 'recency', 'frequency', 'monetary']"
   ]
  },
  {
   "cell_type": "markdown",
   "id": "abd1301d-7206-427f-8a88-9059acb5e609",
   "metadata": {
    "heading_collapsed": true,
    "hidden": true,
    "jp-MarkdownHeadingCollapsed": true,
    "tags": []
   },
   "source": [
    "## Criação"
   ]
  },
  {
   "cell_type": "code",
   "execution_count": null,
   "id": "852e6ef2-2e6f-4f26-a2a2-209663127697",
   "metadata": {
    "hidden": true
   },
   "outputs": [],
   "source": []
  },
  {
   "cell_type": "markdown",
   "id": "e28708f8",
   "metadata": {
    "heading_collapsed": true,
    "jp-MarkdownHeadingCollapsed": true,
    "tags": []
   },
   "source": [
    "# 7 - Análise exploratória dos dados"
   ]
  },
  {
   "cell_type": "code",
   "execution_count": 850,
   "id": "1b68ce1f-62e8-4ba3-ab4a-aa3594c24c55",
   "metadata": {
    "hidden": true,
    "tags": []
   },
   "outputs": [],
   "source": [
    "df4 = df3.copy()"
   ]
  },
  {
   "cell_type": "markdown",
   "id": "0bdb6910",
   "metadata": {
    "heading_collapsed": true,
    "hidden": true
   },
   "source": [
    "## Medidas e gráficos de tendência e dispersão"
   ]
  },
  {
   "cell_type": "code",
   "execution_count": 851,
   "id": "0a657ea8",
   "metadata": {
    "hidden": true
   },
   "outputs": [
    {
     "data": {
      "text/html": [
       "<div>\n",
       "<style scoped>\n",
       "    .dataframe tbody tr th:only-of-type {\n",
       "        vertical-align: middle;\n",
       "    }\n",
       "\n",
       "    .dataframe tbody tr th {\n",
       "        vertical-align: top;\n",
       "    }\n",
       "\n",
       "    .dataframe thead th {\n",
       "        text-align: right;\n",
       "    }\n",
       "</style>\n",
       "<table border=\"1\" class=\"dataframe\">\n",
       "  <thead>\n",
       "    <tr style=\"text-align: right;\">\n",
       "      <th></th>\n",
       "      <th>count</th>\n",
       "      <th>mean</th>\n",
       "      <th>std</th>\n",
       "      <th>min</th>\n",
       "      <th>25%</th>\n",
       "      <th>50%</th>\n",
       "      <th>75%</th>\n",
       "      <th>max</th>\n",
       "    </tr>\n",
       "  </thead>\n",
       "  <tbody>\n",
       "    <tr>\n",
       "      <th>recency</th>\n",
       "      <td>4338.0</td>\n",
       "      <td>93.059474</td>\n",
       "      <td>100.012264</td>\n",
       "      <td>1.00</td>\n",
       "      <td>18.000</td>\n",
       "      <td>51.000</td>\n",
       "      <td>142.75</td>\n",
       "      <td>374.00</td>\n",
       "    </tr>\n",
       "    <tr>\n",
       "      <th>frequency</th>\n",
       "      <td>4338.0</td>\n",
       "      <td>4.272015</td>\n",
       "      <td>7.697998</td>\n",
       "      <td>1.00</td>\n",
       "      <td>1.000</td>\n",
       "      <td>2.000</td>\n",
       "      <td>5.00</td>\n",
       "      <td>209.00</td>\n",
       "    </tr>\n",
       "    <tr>\n",
       "      <th>monetary</th>\n",
       "      <td>4338.0</td>\n",
       "      <td>2054.266460</td>\n",
       "      <td>8989.230441</td>\n",
       "      <td>3.75</td>\n",
       "      <td>307.415</td>\n",
       "      <td>674.485</td>\n",
       "      <td>1661.74</td>\n",
       "      <td>280206.02</td>\n",
       "    </tr>\n",
       "  </tbody>\n",
       "</table>\n",
       "</div>"
      ],
      "text/plain": [
       "            count         mean          std   min      25%      50%      75%  \\\n",
       "recency    4338.0    93.059474   100.012264  1.00   18.000   51.000   142.75   \n",
       "frequency  4338.0     4.272015     7.697998  1.00    1.000    2.000     5.00   \n",
       "monetary   4338.0  2054.266460  8989.230441  3.75  307.415  674.485  1661.74   \n",
       "\n",
       "                 max  \n",
       "recency       374.00  \n",
       "frequency     209.00  \n",
       "monetary   280206.02  "
      ]
     },
     "execution_count": 851,
     "metadata": {},
     "output_type": "execute_result"
    }
   ],
   "source": [
    "rfm.describe().T"
   ]
  },
  {
   "cell_type": "code",
   "execution_count": 852,
   "id": "f0afb784",
   "metadata": {
    "hidden": true
   },
   "outputs": [
    {
     "data": {
      "text/plain": [
       "<Axes: >"
      ]
     },
     "execution_count": 852,
     "metadata": {},
     "output_type": "execute_result"
    },
    {
     "data": {
      "image/png": "[encoded data removed]",
      "text/plain": [
       "<Figure size 640x480 with 3 Axes>"
      ]
     },
     "metadata": {},
     "output_type": "display_data"
    }
   ],
   "source": [
    "plt.subplot( 3, 1, 1 )\n",
    "sns.boxplot(data=rfm[\"recency\"], orient=\"h\", width=1)\n",
    "\n",
    "plt.subplot( 3, 1, 2 )\n",
    "sns.boxplot(data=rfm[\"frequency\"], orient=\"h\", width=1)\n",
    "\n",
    "plt.subplot( 3, 1, 3 )\n",
    "sns.boxplot(data=rfm[\"monetary\"], orient=\"h\", width=1)"
   ]
  },
  {
   "cell_type": "markdown",
   "id": "4ee2fd35",
   "metadata": {
    "heading_collapsed": true,
    "hidden": true
   },
   "source": [
    "## Medidas e gráficos de distribuição"
   ]
  },
  {
   "cell_type": "code",
   "execution_count": 853,
   "id": "da395b47",
   "metadata": {
    "hidden": true,
    "scrolled": false
   },
   "outputs": [
    {
     "data": {
      "text/plain": [
       "array([[<Axes: title={'center': 'recency'}>,\n",
       "        <Axes: title={'center': 'frequency'}>],\n",
       "       [<Axes: title={'center': 'monetary'}>, <Axes: >]], dtype=object)"
      ]
     },
     "execution_count": 853,
     "metadata": {},
     "output_type": "execute_result"
    },
    {
     "data": {
      "image/png": "[encoded data removed]",
      "text/plain": [
       "<Figure size 2500x2500 with 4 Axes>"
      ]
     },
     "metadata": {},
     "output_type": "display_data"
    }
   ],
   "source": [
    "rfm.hist(figsize=[25,25], density=True)"
   ]
  },
  {
   "cell_type": "code",
   "execution_count": 854,
   "id": "29fa4ef2",
   "metadata": {
    "hidden": true
   },
   "outputs": [
    {
     "data": {
      "text/plain": [
       "customer_id     0.000999\n",
       "recency         1.245826\n",
       "frequency      12.067031\n",
       "monetary       19.324953\n",
       "dtype: float64"
      ]
     },
     "execution_count": 854,
     "metadata": {},
     "output_type": "execute_result"
    }
   ],
   "source": [
    "rfm.skew()"
   ]
  },
  {
   "cell_type": "code",
   "execution_count": 855,
   "id": "84e9c29d",
   "metadata": {
    "hidden": true
   },
   "outputs": [
    {
     "data": {
      "text/plain": [
       "customer_id     -1.195338\n",
       "recency          0.430432\n",
       "frequency      249.058123\n",
       "monetary       478.048121\n",
       "dtype: float64"
      ]
     },
     "execution_count": 855,
     "metadata": {},
     "output_type": "execute_result"
    }
   ],
   "source": [
    "rfm.kurtosis()"
   ]
  },
  {
   "cell_type": "markdown",
   "id": "ffc73fb8-2f8f-492b-b4ed-df428f02a1a5",
   "metadata": {
    "heading_collapsed": true,
    "jp-MarkdownHeadingCollapsed": true,
    "tags": []
   },
   "source": [
    "# 8 - Preparação dos dados"
   ]
  },
  {
   "cell_type": "code",
   "execution_count": 856,
   "id": "4f942ca0",
   "metadata": {
    "hidden": true,
    "tags": []
   },
   "outputs": [],
   "source": [
    "rfm1 = rfm.copy()"
   ]
  },
  {
   "cell_type": "markdown",
   "id": "7e42d93a-a11c-4692-a655-69c735b0fea9",
   "metadata": {
    "heading_collapsed": true,
    "hidden": true,
    "jp-MarkdownHeadingCollapsed": true,
    "tags": []
   },
   "source": [
    "## Reescala"
   ]
  },
  {
   "cell_type": "code",
   "execution_count": 858,
   "id": "0165f928-01c0-45ee-9a7a-e68b6c13c431",
   "metadata": {
    "hidden": true,
    "tags": []
   },
   "outputs": [],
   "source": [
    "ss = StandardScaler ()"
   ]
  },
  {
   "cell_type": "code",
   "execution_count": 859,
   "id": "300721e9",
   "metadata": {
    "code_folding": [],
    "hidden": true
   },
   "outputs": [],
   "source": [
    "#Reescala da variável \"recency\" com o método standardscaler\n",
    "\n",
    "rfm1[\"recency\"] = ss.fit_transform(rfm1[[\"recency\"]])\n",
    "\n",
    "\n",
    "#Reescala da variável \"frequency\" com o método standardscaler\n",
    "\n",
    "rfm1[\"frequency\"] = ss.fit_transform(rfm1[[\"frequency\"]])\n",
    "\n",
    "\n",
    "#Reescala da variável \"monetary\" com o método standardscaler\n",
    "\n",
    "rfm1[\"monetary\"] = ss.fit_transform(rfm1[[\"monetary\"]])"
   ]
  },
  {
   "cell_type": "markdown",
   "id": "78d07e6b",
   "metadata": {
    "heading_collapsed": true,
    "hidden": true,
    "jp-MarkdownHeadingCollapsed": true,
    "tags": []
   },
   "source": [
    "## Filtragem"
   ]
  },
  {
   "cell_type": "code",
   "execution_count": 860,
   "id": "852f2025",
   "metadata": {
    "hidden": true,
    "tags": []
   },
   "outputs": [],
   "source": [
    "rfm1 = rfm1.drop(columns='customer_id')"
   ]
  },
  {
   "cell_type": "markdown",
   "id": "fece021d-a5af-4a46-9ad6-11eb980afe09",
   "metadata": {
    "tags": []
   },
   "source": [
    "# 10 - Treinamento de modelos"
   ]
  },
  {
   "cell_type": "code",
   "execution_count": 895,
   "id": "67d67d8b",
   "metadata": {},
   "outputs": [],
   "source": [
    "rfm2 = rfm1.copy()"
   ]
  },
  {
   "cell_type": "markdown",
   "id": "8932366b-8376-42ae-827d-433cc0dfbf1c",
   "metadata": {
    "jp-MarkdownHeadingCollapsed": true,
    "tags": []
   },
   "source": [
    "## KMeans"
   ]
  },
  {
   "cell_type": "markdown",
   "id": "d1bc23d2",
   "metadata": {
    "heading_collapsed": true
   },
   "source": [
    "### Treinamento"
   ]
  },
  {
   "cell_type": "code",
   "execution_count": 896,
   "id": "2e47d6e5-236a-402c-a8f8-09e5f1bb3c8c",
   "metadata": {
    "hidden": true,
    "scrolled": false
   },
   "outputs": [],
   "source": [
    "sum_of_sq_dist = {}\n",
    "\n",
    "for k in range(1,15):\n",
    "    km = KMeans(n_clusters=k, init= 'k-means++', max_iter= 1000, n_init=10)\n",
    "    km = km.fit(rfm2)\n",
    "    sum_of_sq_dist[k] = km.inertia_"
   ]
  },
  {
   "cell_type": "markdown",
   "id": "8682c617",
   "metadata": {
    "heading_collapsed": true
   },
   "source": [
    "### Otimização"
   ]
  },
  {
   "cell_type": "code",
   "execution_count": 897,
   "id": "a30493e8",
   "metadata": {
    "hidden": true,
    "scrolled": false
   },
   "outputs": [
    {
     "data": {
      "image/png": "[encoded data removed]",
      "text/plain": [
       "<Figure size 640x480 with 1 Axes>"
      ]
     },
     "metadata": {},
     "output_type": "display_data"
    }
   ],
   "source": [
    "sns.pointplot(x = list(sum_of_sq_dist.keys()), y = list(sum_of_sq_dist.values()))\n",
    "\n",
    "plt.xlabel('Número de clusters K')\n",
    "plt.ylabel('Soma das distâncias quadradas')\n",
    "plt.title('Elbow Method')\n",
    "\n",
    "plt.show()"
   ]
  },
  {
   "cell_type": "code",
   "execution_count": 898,
   "id": "516fc87d",
   "metadata": {
    "hidden": true
   },
   "outputs": [
    {
     "data": {
      "text/html": [
       "<style>#sk-container-id-6 {color: black;background-color: white;}#sk-container-id-6 pre{padding: 0;}#sk-container-id-6 div.sk-toggleable {background-color: white;}#sk-container-id-6 label.sk-toggleable__label {cursor: pointer;display: block;width: 100%;margin-bottom: 0;padding: 0.3em;box-sizing: border-box;text-align: center;}#sk-container-id-6 label.sk-toggleable__label-arrow:before {content: \"▸\";float: left;margin-right: 0.25em;color: #696969;}#sk-container-id-6 label.sk-toggleable__label-arrow:hover:before {color: black;}#sk-container-id-6 div.sk-estimator:hover label.sk-toggleable__label-arrow:before {color: black;}#sk-container-id-6 div.sk-toggleable__content {max-height: 0;max-width: 0;overflow: hidden;text-align: left;background-color: #f0f8ff;}#sk-container-id-6 div.sk-toggleable__content pre {margin: 0.2em;color: black;border-radius: 0.25em;background-color: #f0f8ff;}#sk-container-id-6 input.sk-toggleable__control:checked~div.sk-toggleable__content {max-height: 200px;max-width: 100%;overflow: auto;}#sk-container-id-6 input.sk-toggleable__control:checked~label.sk-toggleable__label-arrow:before {content: \"▾\";}#sk-container-id-6 div.sk-estimator input.sk-toggleable__control:checked~label.sk-toggleable__label {background-color: #d4ebff;}#sk-container-id-6 div.sk-label input.sk-toggleable__control:checked~label.sk-toggleable__label {background-color: #d4ebff;}#sk-container-id-6 input.sk-hidden--visually {border: 0;clip: rect(1px 1px 1px 1px);clip: rect(1px, 1px, 1px, 1px);height: 1px;margin: -1px;overflow: hidden;padding: 0;position: absolute;width: 1px;}#sk-container-id-6 div.sk-estimator {font-family: monospace;background-color: #f0f8ff;border: 1px dotted black;border-radius: 0.25em;box-sizing: border-box;margin-bottom: 0.5em;}#sk-container-id-6 div.sk-estimator:hover {background-color: #d4ebff;}#sk-container-id-6 div.sk-parallel-item::after {content: \"\";width: 100%;border-bottom: 1px solid gray;flex-grow: 1;}#sk-container-id-6 div.sk-label:hover label.sk-toggleable__label {background-color: #d4ebff;}#sk-container-id-6 div.sk-serial::before {content: \"\";position: absolute;border-left: 1px solid gray;box-sizing: border-box;top: 0;bottom: 0;left: 50%;z-index: 0;}#sk-container-id-6 div.sk-serial {display: flex;flex-direction: column;align-items: center;background-color: white;padding-right: 0.2em;padding-left: 0.2em;position: relative;}#sk-container-id-6 div.sk-item {position: relative;z-index: 1;}#sk-container-id-6 div.sk-parallel {display: flex;align-items: stretch;justify-content: center;background-color: white;position: relative;}#sk-container-id-6 div.sk-item::before, #sk-container-id-6 div.sk-parallel-item::before {content: \"\";position: absolute;border-left: 1px solid gray;box-sizing: border-box;top: 0;bottom: 0;left: 50%;z-index: -1;}#sk-container-id-6 div.sk-parallel-item {display: flex;flex-direction: column;z-index: 1;position: relative;background-color: white;}#sk-container-id-6 div.sk-parallel-item:first-child::after {align-self: flex-end;width: 50%;}#sk-container-id-6 div.sk-parallel-item:last-child::after {align-self: flex-start;width: 50%;}#sk-container-id-6 div.sk-parallel-item:only-child::after {width: 0;}#sk-container-id-6 div.sk-dashed-wrapped {border: 1px dashed gray;margin: 0 0.4em 0.5em 0.4em;box-sizing: border-box;padding-bottom: 0.4em;background-color: white;}#sk-container-id-6 div.sk-label label {font-family: monospace;font-weight: bold;display: inline-block;line-height: 1.2em;}#sk-container-id-6 div.sk-label-container {text-align: center;}#sk-container-id-6 div.sk-container {/* jupyter's `normalize.less` sets `[hidden] { display: none; }` but bootstrap.min.css set `[hidden] { display: none !important; }` so we also need the `!important` here to be able to override the default hidden behavior on the sphinx rendered scikit-learn.org. See: https://github.com/scikit-learn/scikit-learn/issues/21755 */display: inline-block !important;position: relative;}#sk-container-id-6 div.sk-text-repr-fallback {display: none;}</style><div id=\"sk-container-id-6\" class=\"sk-top-container\"><div class=\"sk-text-repr-fallback\"><pre>KMeans(max_iter=1000, n_clusters=4, n_init=10)</pre><b>In a Jupyter environment, please rerun this cell to show the HTML representation or trust the notebook. <br />On GitHub, the HTML representation is unable to render, please try loading this page with nbviewer.org.</b></div><div class=\"sk-container\" hidden><div class=\"sk-item\"><div class=\"sk-estimator sk-toggleable\"><input class=\"sk-toggleable__control sk-hidden--visually\" id=\"sk-estimator-id-6\" type=\"checkbox\" checked><label for=\"sk-estimator-id-6\" class=\"sk-toggleable__label sk-toggleable__label-arrow\">KMeans</label><div class=\"sk-toggleable__content\"><pre>KMeans(max_iter=1000, n_clusters=4, n_init=10)</pre></div></div></div></div></div>"
      ],
      "text/plain": [
       "KMeans(max_iter=1000, n_clusters=4, n_init=10)"
      ]
     },
     "execution_count": 898,
     "metadata": {},
     "output_type": "execute_result"
    }
   ],
   "source": [
    "km = KMeans(n_clusters=4, init= 'k-means++', max_iter= 1000, n_init=10)\n",
    "km.fit(rfm2)"
   ]
  },
  {
   "cell_type": "markdown",
   "id": "e3e6d899",
   "metadata": {
    "heading_collapsed": true
   },
   "source": [
    "### Análise"
   ]
  },
  {
   "cell_type": "code",
   "execution_count": 930,
   "id": "eb27174e",
   "metadata": {
    "hidden": true
   },
   "outputs": [],
   "source": [
    "# Criação do dataframe final com os dados de id de cliente, recência, frequência, monetário e custler\n",
    "\n",
    "rfm_final = rfm.copy()\n",
    "\n",
    "\n",
    "# Inclusão da label do cluster a cada id\n",
    "\n",
    "rfm_final[\"cluster\"] = (km.labels_ + 1)\n",
    "\n",
    "\n",
    "# Inclusão do plano de fidelidade de cada cliente de acordo com o cluster\n",
    "\n",
    "def func(row):\n",
    "    if row[\"cluster\"]==4:\n",
    "        return 'Diamante'\n",
    "    elif row[\"cluster\"]==3:\n",
    "        return 'Ouro'\n",
    "    elif row[\"cluster\"]==2:\n",
    "        return 'Prata'\n",
    "    else:\n",
    "        return 'Bronze'\n",
    "    \n",
    "rfm_final['fidelidade'] = rfm_final.apply(func, axis=1)"
   ]
  },
  {
   "cell_type": "code",
   "execution_count": 931,
   "id": "f0ab4ea2",
   "metadata": {
    "cell_style": "split",
    "hidden": true,
    "hide_input": false,
    "scrolled": false
   },
   "outputs": [
    {
     "data": {
      "text/html": [
       "<div>\n",
       "<style scoped>\n",
       "    .dataframe tbody tr th:only-of-type {\n",
       "        vertical-align: middle;\n",
       "    }\n",
       "\n",
       "    .dataframe tbody tr th {\n",
       "        vertical-align: top;\n",
       "    }\n",
       "\n",
       "    .dataframe thead th {\n",
       "        text-align: right;\n",
       "    }\n",
       "</style>\n",
       "<table border=\"1\" class=\"dataframe\">\n",
       "  <thead>\n",
       "    <tr style=\"text-align: right;\">\n",
       "      <th></th>\n",
       "      <th>cluster</th>\n",
       "      <th>recency</th>\n",
       "      <th>frequency</th>\n",
       "      <th>monetary</th>\n",
       "    </tr>\n",
       "  </thead>\n",
       "  <tbody>\n",
       "    <tr>\n",
       "      <th>0</th>\n",
       "      <td>1</td>\n",
       "      <td>249.173421</td>\n",
       "      <td>1.551367</td>\n",
       "      <td>478.194732</td>\n",
       "    </tr>\n",
       "    <tr>\n",
       "      <th>1</th>\n",
       "      <td>2</td>\n",
       "      <td>44.486734</td>\n",
       "      <td>3.655748</td>\n",
       "      <td>1349.824613</td>\n",
       "    </tr>\n",
       "    <tr>\n",
       "      <th>2</th>\n",
       "      <td>3</td>\n",
       "      <td>16.123223</td>\n",
       "      <td>22.047393</td>\n",
       "      <td>12453.225924</td>\n",
       "    </tr>\n",
       "    <tr>\n",
       "      <th>3</th>\n",
       "      <td>4</td>\n",
       "      <td>7.615385</td>\n",
       "      <td>82.538462</td>\n",
       "      <td>127338.313846</td>\n",
       "    </tr>\n",
       "  </tbody>\n",
       "</table>\n",
       "</div>"
      ],
      "text/plain": [
       "   cluster     recency  frequency       monetary\n",
       "0        1  249.173421   1.551367     478.194732\n",
       "1        2   44.486734   3.655748    1349.824613\n",
       "2        3   16.123223  22.047393   12453.225924\n",
       "3        4    7.615385  82.538462  127338.313846"
      ]
     },
     "execution_count": 931,
     "metadata": {},
     "output_type": "execute_result"
    }
   ],
   "source": [
    "rfm_final.groupby(\"cluster\")[\"recency\",\"frequency\",\"monetary\"].mean().reset_index()"
   ]
  },
  {
   "cell_type": "code",
   "execution_count": 932,
   "id": "3feb97c7",
   "metadata": {
    "cell_style": "split",
    "hidden": true,
    "hide_input": false
   },
   "outputs": [
    {
     "data": {
      "text/html": [
       "<div>\n",
       "<style scoped>\n",
       "    .dataframe tbody tr th:only-of-type {\n",
       "        vertical-align: middle;\n",
       "    }\n",
       "\n",
       "    .dataframe tbody tr th {\n",
       "        vertical-align: top;\n",
       "    }\n",
       "\n",
       "    .dataframe thead th {\n",
       "        text-align: right;\n",
       "    }\n",
       "</style>\n",
       "<table border=\"1\" class=\"dataframe\">\n",
       "  <thead>\n",
       "    <tr style=\"text-align: right;\">\n",
       "      <th></th>\n",
       "      <th>fidelidade</th>\n",
       "      <th>recency</th>\n",
       "      <th>frequency</th>\n",
       "      <th>monetary</th>\n",
       "    </tr>\n",
       "  </thead>\n",
       "  <tbody>\n",
       "    <tr>\n",
       "      <th>0</th>\n",
       "      <td>Diamante</td>\n",
       "      <td>7.615385</td>\n",
       "      <td>82.538462</td>\n",
       "      <td>127338.313846</td>\n",
       "    </tr>\n",
       "    <tr>\n",
       "      <th>1</th>\n",
       "      <td>Ouro</td>\n",
       "      <td>16.123223</td>\n",
       "      <td>22.047393</td>\n",
       "      <td>12453.225924</td>\n",
       "    </tr>\n",
       "    <tr>\n",
       "      <th>2</th>\n",
       "      <td>Prata</td>\n",
       "      <td>44.486734</td>\n",
       "      <td>3.655748</td>\n",
       "      <td>1349.824613</td>\n",
       "    </tr>\n",
       "    <tr>\n",
       "      <th>3</th>\n",
       "      <td>Bronze</td>\n",
       "      <td>249.173421</td>\n",
       "      <td>1.551367</td>\n",
       "      <td>478.194732</td>\n",
       "    </tr>\n",
       "  </tbody>\n",
       "</table>\n",
       "</div>"
      ],
      "text/plain": [
       "  fidelidade     recency  frequency       monetary\n",
       "0   Diamante    7.615385  82.538462  127338.313846\n",
       "1       Ouro   16.123223  22.047393   12453.225924\n",
       "2      Prata   44.486734   3.655748    1349.824613\n",
       "3     Bronze  249.173421   1.551367     478.194732"
      ]
     },
     "execution_count": 932,
     "metadata": {},
     "output_type": "execute_result"
    }
   ],
   "source": [
    "rfm_final.groupby(\"fidelidade\")[\"recency\",\"frequency\",\"monetary\"].mean().sort_values('monetary',ascending=False).reset_index()"
   ]
  },
  {
   "cell_type": "code",
   "execution_count": 933,
   "id": "76fecf52",
   "metadata": {
    "hidden": true
   },
   "outputs": [
    {
     "data": {
      "text/plain": [
       "Prata       3053\n",
       "Bronze      1061\n",
       "Ouro         211\n",
       "Diamante      13\n",
       "Name: fidelidade, dtype: int64"
      ]
     },
     "execution_count": 933,
     "metadata": {},
     "output_type": "execute_result"
    }
   ],
   "source": [
    "rfm_final.fidelidade.value_counts()"
   ]
  },
  {
   "cell_type": "code",
   "execution_count": 976,
   "id": "61cc6acd",
   "metadata": {
    "hidden": true,
    "scrolled": false
   },
   "outputs": [
    {
     "data": {
      "text/html": [
       "<div>\n",
       "<style scoped>\n",
       "    .dataframe tbody tr th:only-of-type {\n",
       "        vertical-align: middle;\n",
       "    }\n",
       "\n",
       "    .dataframe tbody tr th {\n",
       "        vertical-align: top;\n",
       "    }\n",
       "\n",
       "    .dataframe thead th {\n",
       "        text-align: right;\n",
       "    }\n",
       "</style>\n",
       "<table border=\"1\" class=\"dataframe\">\n",
       "  <thead>\n",
       "    <tr style=\"text-align: right;\">\n",
       "      <th></th>\n",
       "      <th>customer_id</th>\n",
       "      <th>recency</th>\n",
       "      <th>frequency</th>\n",
       "      <th>monetary</th>\n",
       "      <th>cluster</th>\n",
       "      <th>fidelidade</th>\n",
       "    </tr>\n",
       "  </thead>\n",
       "  <tbody>\n",
       "    <tr>\n",
       "      <th>3771</th>\n",
       "      <td>17511</td>\n",
       "      <td>3</td>\n",
       "      <td>31</td>\n",
       "      <td>91062.38</td>\n",
       "      <td>4</td>\n",
       "      <td>Diamante</td>\n",
       "    </tr>\n",
       "    <tr>\n",
       "      <th>3728</th>\n",
       "      <td>17450</td>\n",
       "      <td>9</td>\n",
       "      <td>46</td>\n",
       "      <td>194550.79</td>\n",
       "      <td>4</td>\n",
       "      <td>Diamante</td>\n",
       "    </tr>\n",
       "    <tr>\n",
       "      <th>2176</th>\n",
       "      <td>15311</td>\n",
       "      <td>1</td>\n",
       "      <td>91</td>\n",
       "      <td>60767.90</td>\n",
       "      <td>4</td>\n",
       "      <td>Diamante</td>\n",
       "    </tr>\n",
       "    <tr>\n",
       "      <th>562</th>\n",
       "      <td>13089</td>\n",
       "      <td>3</td>\n",
       "      <td>97</td>\n",
       "      <td>58825.83</td>\n",
       "      <td>4</td>\n",
       "      <td>Diamante</td>\n",
       "    </tr>\n",
       "    <tr>\n",
       "      <th>2702</th>\n",
       "      <td>16029</td>\n",
       "      <td>39</td>\n",
       "      <td>63</td>\n",
       "      <td>81024.84</td>\n",
       "      <td>4</td>\n",
       "      <td>Diamante</td>\n",
       "    </tr>\n",
       "    <tr>\n",
       "      <th>1879</th>\n",
       "      <td>14911</td>\n",
       "      <td>2</td>\n",
       "      <td>201</td>\n",
       "      <td>143825.06</td>\n",
       "      <td>4</td>\n",
       "      <td>Diamante</td>\n",
       "    </tr>\n",
       "    <tr>\n",
       "      <th>1689</th>\n",
       "      <td>14646</td>\n",
       "      <td>2</td>\n",
       "      <td>73</td>\n",
       "      <td>280206.02</td>\n",
       "      <td>4</td>\n",
       "      <td>Diamante</td>\n",
       "    </tr>\n",
       "    <tr>\n",
       "      <th>326</th>\n",
       "      <td>12748</td>\n",
       "      <td>1</td>\n",
       "      <td>209</td>\n",
       "      <td>33719.73</td>\n",
       "      <td>4</td>\n",
       "      <td>Diamante</td>\n",
       "    </tr>\n",
       "    <tr>\n",
       "      <th>4010</th>\n",
       "      <td>17841</td>\n",
       "      <td>2</td>\n",
       "      <td>124</td>\n",
       "      <td>40991.57</td>\n",
       "      <td>4</td>\n",
       "      <td>Diamante</td>\n",
       "    </tr>\n",
       "    <tr>\n",
       "      <th>55</th>\n",
       "      <td>12415</td>\n",
       "      <td>25</td>\n",
       "      <td>21</td>\n",
       "      <td>124914.53</td>\n",
       "      <td>4</td>\n",
       "      <td>Diamante</td>\n",
       "    </tr>\n",
       "  </tbody>\n",
       "</table>\n",
       "</div>"
      ],
      "text/plain": [
       "     customer_id  recency  frequency   monetary  cluster fidelidade\n",
       "3771       17511        3         31   91062.38        4   Diamante\n",
       "3728       17450        9         46  194550.79        4   Diamante\n",
       "2176       15311        1         91   60767.90        4   Diamante\n",
       "562        13089        3         97   58825.83        4   Diamante\n",
       "2702       16029       39         63   81024.84        4   Diamante\n",
       "1879       14911        2        201  143825.06        4   Diamante\n",
       "1689       14646        2         73  280206.02        4   Diamante\n",
       "326        12748        1        209   33719.73        4   Diamante\n",
       "4010       17841        2        124   40991.57        4   Diamante\n",
       "55         12415       25         21  124914.53        4   Diamante"
      ]
     },
     "execution_count": 976,
     "metadata": {},
     "output_type": "execute_result"
    }
   ],
   "source": [
    "rfm_final.loc[rfm_final['fidelidade'] == \"Diamante\", :].sample(10)"
   ]
  },
  {
   "cell_type": "code",
   "execution_count": 997,
   "id": "f3e1b3e5",
   "metadata": {
    "hidden": true,
    "scrolled": false
   },
   "outputs": [
    {
     "data": {
      "text/html": [
       "<div>\n",
       "<style scoped>\n",
       "    .dataframe tbody tr th:only-of-type {\n",
       "        vertical-align: middle;\n",
       "    }\n",
       "\n",
       "    .dataframe tbody tr th {\n",
       "        vertical-align: top;\n",
       "    }\n",
       "\n",
       "    .dataframe thead th {\n",
       "        text-align: right;\n",
       "    }\n",
       "</style>\n",
       "<table border=\"1\" class=\"dataframe\">\n",
       "  <thead>\n",
       "    <tr style=\"text-align: right;\">\n",
       "      <th></th>\n",
       "      <th>customer_id</th>\n",
       "      <th>recency</th>\n",
       "      <th>frequency</th>\n",
       "      <th>monetary</th>\n",
       "      <th>cluster</th>\n",
       "      <th>fidelidade</th>\n",
       "    </tr>\n",
       "  </thead>\n",
       "  <tbody>\n",
       "    <tr>\n",
       "      <th>3771</th>\n",
       "      <td>17511</td>\n",
       "      <td>3</td>\n",
       "      <td>31</td>\n",
       "      <td>91062.38</td>\n",
       "      <td>4</td>\n",
       "      <td>Diamante</td>\n",
       "    </tr>\n",
       "  </tbody>\n",
       "</table>\n",
       "</div>"
      ],
      "text/plain": [
       "     customer_id  recency  frequency  monetary  cluster fidelidade\n",
       "3771       17511        3         31  91062.38        4   Diamante"
      ]
     },
     "execution_count": 997,
     "metadata": {},
     "output_type": "execute_result"
    }
   ],
   "source": [
    "rfm_final.loc[(rfm_final['fidelidade'] == \"Diamante\") & (rfm_final['customer_id'] == \"17511\"), :]"
   ]
  },
  {
   "cell_type": "markdown",
   "id": "1c7273cb",
   "metadata": {
    "heading_collapsed": true
   },
   "source": [
    "### Performance"
   ]
  },
  {
   "cell_type": "code",
   "execution_count": 998,
   "id": "9b8ee2eb",
   "metadata": {
    "hidden": true
   },
   "outputs": [
    {
     "data": {
      "text/plain": [
       "0.6160085417757372"
      ]
     },
     "execution_count": 998,
     "metadata": {},
     "output_type": "execute_result"
    }
   ],
   "source": [
    "label = km.predict(rfm2)\n",
    "silhouette_score(rfm2, label)"
   ]
  },
  {
   "cell_type": "markdown",
   "id": "2b129039-e0dd-47be-b35a-4330e20069d5",
   "metadata": {
    "heading_collapsed": true,
    "jp-MarkdownHeadingCollapsed": true,
    "tags": []
   },
   "source": [
    "# 13 - Análise de performance do modelo final"
   ]
  },
  {
   "cell_type": "markdown",
   "id": "e25dfd33",
   "metadata": {
    "heading_collapsed": true,
    "hidden": true
   },
   "source": [
    "## Retorno de Investimento"
   ]
  },
  {
   "cell_type": "code",
   "execution_count": null,
   "id": "26534633-42d5-40e2-bcc9-24d3e23df381",
   "metadata": {
    "hidden": true
   },
   "outputs": [],
   "source": []
  },
  {
   "cell_type": "markdown",
   "id": "6d263dcb",
   "metadata": {
    "heading_collapsed": true
   },
   "source": [
    "# 14 - Implantação do modelo em produção"
   ]
  },
  {
   "cell_type": "markdown",
   "id": "9063a28f",
   "metadata": {
    "heading_collapsed": true,
    "hidden": true
   },
   "source": [
    "## Serialização"
   ]
  },
  {
   "cell_type": "markdown",
   "id": "df8aae75",
   "metadata": {
    "heading_collapsed": true,
    "hidden": true
   },
   "source": [
    "### Modelo"
   ]
  },
  {
   "cell_type": "code",
   "execution_count": null,
   "id": "9f995808",
   "metadata": {
    "hidden": true
   },
   "outputs": [],
   "source": [
    "pickle.dump( xgb_otimizado, open( \"C:\\\\Users\\\\victo\\\\repos\\\\comunidade_ds\\\\pa_health_insurance_cross_sell\\\\models\\\\xgb_model.pkl\", 'wb' ) )"
   ]
  },
  {
   "cell_type": "markdown",
   "id": "1d5493f5",
   "metadata": {
    "heading_collapsed": true,
    "hidden": true
   },
   "source": [
    "### Features"
   ]
  },
  {
   "cell_type": "markdown",
   "id": "28a2d856",
   "metadata": {
    "heading_collapsed": true,
    "hidden": true
   },
   "source": [
    "#### Codificadores"
   ]
  },
  {
   "cell_type": "code",
   "execution_count": 1156,
   "id": "43143db2",
   "metadata": {
    "hidden": true
   },
   "outputs": [],
   "source": [
    "#Codificação da variável \"gender\" com o método mean encoding\n",
    "\n",
    "pickle.dump( gender_mean_encoding, open( '../src/features/gender_encoding.pkl', 'wb' ) )\n",
    "\n",
    "\n",
    "#Codificação da variável \"vehicle_damage\" com o método mean encoding\n",
    "\n",
    "pickle.dump( vehicle_damage_mean_encoding, open( '../src/features/vehicle_damage_encoding.pkl', 'wb' ) )\n",
    "\n",
    "\n",
    "#Codificação da variável \"vehicle_age\" com o método ordinal encoding\n",
    "\n",
    "pickle.dump( oe, open( '../src/features/vehicle_age_encoding.pkl', 'wb' ) )\n",
    "\n",
    "\n",
    "#Codificação da variável \"region_code\" com o método mean encoding\n",
    "\n",
    "pickle.dump( region_code_mean_encoding, open( '../src/features/region_code_encoding.pkl', 'wb' ) )\n",
    "\n",
    "\n",
    "#Codificação da variável \"policy_sales_channel\" com o método mean encoding\n",
    "\n",
    "pickle.dump( policy_sales_channel_mean_encoding, open( '../src/features/policy_sales_channel_encoding.pkl', 'wb' ) )"
   ]
  },
  {
   "cell_type": "markdown",
   "id": "cc5a0a62",
   "metadata": {
    "heading_collapsed": true,
    "hidden": true
   },
   "source": [
    "#### Reescaladores"
   ]
  },
  {
   "cell_type": "code",
   "execution_count": 980,
   "id": "c473add0",
   "metadata": {
    "hidden": true,
    "tags": []
   },
   "outputs": [],
   "source": [
    "#Reescala da variável \"age\" com o método minmaxscaler\n",
    "\n",
    "pickle.dump( mms_age, open( '../src/features/age_scaler.pkl', 'wb' ) )\n",
    "\n",
    "\n",
    "#Reescala da variável \"annual_premium\" com o método minmaxscaler\n",
    "\n",
    "pickle.dump(mms_annual_premium, open( '../src/features/annual_premium_scaler.pkl', 'wb' ) )\n",
    "\n",
    "\n",
    "#Reescala da variável \"vintage\" com o método minmaxscaler\n",
    "\n",
    "pickle.dump(mms_vintage, open( '../src/features/vintage_scaler.pkl', 'wb' ) )"
   ]
  },
  {
   "cell_type": "markdown",
   "id": "0bab604c",
   "metadata": {
    "heading_collapsed": true,
    "hidden": true
   },
   "source": [
    "## Criação da classe do modelo"
   ]
  },
  {
   "cell_type": "code",
   "execution_count": 1047,
   "id": "aa70074a",
   "metadata": {
    "hidden": true
   },
   "outputs": [],
   "source": [
    "import pickle\n",
    "import numpy  as np\n",
    "import pandas as pd\n",
    "\n",
    "\n",
    "class HealthInsurance:\n",
    "    \n",
    "    def __init__( self ):\n",
    "        self.home_path = 'C:\\\\Users\\\\victo\\\\repos\\\\comunidade_ds\\\\pa_health_insurance_cross_sell\\\\'\n",
    "        self.gender_encoding = pickle.load( open( self.home_path + 'src\\\\features\\\\gender_encoding.pkl', 'rb' ) )\n",
    "        self.vehicle_damage_encoding = pickle.load( open( self.home_path + 'src\\\\features\\\\vehicle_damage_encoding.pkl', 'rb' ) ) \n",
    "        self.vehicle_age_encoding = pickle.load( open( self.home_path + 'src\\\\features\\\\vehicle_age_encoding.pkl', 'rb' ) )\n",
    "        self.region_code_encoding = pickle.load( open( self.home_path + 'src\\\\features\\\\region_code_encoding.pkl', 'rb' ) )\n",
    "        self.policy_sales_channel_encoding = pickle.load( open( self.home_path + 'src\\\\features\\\\policy_sales_channel_encoding.pkl', 'rb' ) )\n",
    "        self.age_scaler = pickle.load( open( self.home_path + 'src\\\\features\\\\age_scaler.pkl', 'rb' ) )\n",
    "        self.annual_premium_scaler = pickle.load( open( self.home_path + 'src\\\\features\\\\annual_premium_scaler.pkl', 'rb' ) )\n",
    "        self.vintage_scaler = pickle.load( open( self.home_path + 'src\\\\features\\\\vintage_scaler.pkl', 'rb' ) )\n",
    "        \n",
    "        \n",
    "    def data_cleaning (self, df2):\n",
    "        \n",
    "        # Renomeação de colunas\n",
    "        \n",
    "        new_columns_name = ['id', 'gender', 'age', 'driving_license', 'region_code', 'previously_insured', 'vehicle_age', \n",
    "            'vehicle_damage', 'annual_premium', 'policy_sales_channel', 'vintage']\n",
    "\n",
    "        df2.columns = new_columns_name\n",
    "        \n",
    "        \n",
    "        return df2\n",
    "    \n",
    "    \n",
    "    \n",
    "    def data_preparation (self, df_train):\n",
    "        \n",
    "        # Codificações\n",
    "        \n",
    "        df_train['gender'] =  df_train['gender'].map(self.gender_encoding)\n",
    "        \n",
    "        df_train['vehicle_damage'] =  df_train['vehicle_damage'].map(self.vehicle_damage_encoding)\n",
    "\n",
    "        df_train[\"vehicle_age\"] = self.vehicle_age_encoding.transform(df_train[[\"vehicle_age\"]])\n",
    "        \n",
    "        df_train['region_code'] =  df_train['region_code'].map(self.region_code_encoding)\n",
    "        \n",
    "        df_train['policy_sales_channel'] =  df_train['policy_sales_channel'].map(self.policy_sales_channel_encoding)\n",
    "        \n",
    "        \n",
    "        # Reescalas\n",
    "        \n",
    "        df_train[\"age\"] = self.age_scaler.transform(df_train[[\"age\"]])\n",
    "        \n",
    "        df_train[\"annual_premium\"] = self.annual_premium_scaler.transform(df_train[[\"annual_premium\"]])\n",
    "        \n",
    "        df_train[\"vintage\"] = self.vintage_scaler.transform(df_train[[\"vintage\"]])\n",
    "        \n",
    "        \n",
    "        # Seleção de features\n",
    "\n",
    "        features_selected = ['previously_insured', 'vehicle_damage', 'vehicle_age', 'age', 'annual_premium', 'vintage', 'policy_sales_channel']\n",
    "        \n",
    "        \n",
    "        return df_train[features_selected]\n",
    "        \n",
    "        \n",
    "\n",
    "    def get_prediction (self, model, original_data, test_data):\n",
    "        \n",
    "        # Predição do modelo\n",
    "        \n",
    "        pred = model.predict_proba(test_data)[:,1]\n",
    "        \n",
    "        \n",
    "        # Junção da predição aos dados originais\n",
    "        \n",
    "        original_data['score'] = pred\n",
    "        \n",
    "        \n",
    "        return original_data.to_json( orient='records', date_format='iso' )"
   ]
  },
  {
   "cell_type": "markdown",
   "id": "ed1ddab9",
   "metadata": {
    "heading_collapsed": true,
    "hidden": true
   },
   "source": [
    "## Desenvolvimento da API"
   ]
  },
  {
   "cell_type": "code",
   "execution_count": 1071,
   "id": "b898d748",
   "metadata": {
    "hidden": true,
    "scrolled": true
   },
   "outputs": [
    {
     "name": "stdout",
     "output_type": "stream",
     "text": [
      " * Serving Flask app '__main__'\n",
      " * Debug mode: on\n"
     ]
    },
    {
     "name": "stderr",
     "output_type": "stream",
     "text": [
      "WARNING: This is a development server. Do not use it in a production deployment. Use a production WSGI server instead.\n",
      " * Running on all addresses (0.0.0.0)\n",
      " * Running on http://127.0.0.1:5000\n",
      " * Running on http://192.168.0.15:5000\n",
      "Press CTRL+C to quit\n",
      " * Restarting with stat\n"
     ]
    },
    {
     "ename": "SystemExit",
     "evalue": "1",
     "output_type": "error",
     "traceback": [
      "An exception has occurred, use %tb to see the full traceback.\n",
      "\u001b[1;31mSystemExit\u001b[0m\u001b[1;31m:\u001b[0m 1\n"
     ]
    }
   ],
   "source": [
    "import pickle\n",
    "import pandas as pd\n",
    "from flask import Flask, request, Response\n",
    "from models.HealthInsurance import HealthInsurance\n",
    "\n",
    "\n",
    "# Carregamento do modelo\n",
    "\n",
    "path = 'C:\\\\Users\\\\victo\\\\repos\\\\comunidade_ds\\\\pa_health_insurance_cross_sell\\\\'\n",
    "model = pickle.load( open( path + 'models\\\\xgb_model.pkl', 'rb' ) )\n",
    "\n",
    "\n",
    "# Inicialização da API\n",
    "\n",
    "app = Flask( __name__ )\n",
    "\n",
    "@app.route( '/predict', methods=['POST'] )\n",
    "\n",
    "def health_insurance_predict():\n",
    "    \n",
    "    test_json = request.get_json()\n",
    "    \n",
    "    if test_json: # there is data\n",
    "        if isinstance( test_json, dict ): # unique example\n",
    "            test_raw = pd.DataFrame( test_json, index=[0] )\n",
    "            \n",
    "        else: # multiple example\n",
    "            test_raw = pd.DataFrame( test_json, columns=test_json[0].keys() )\n",
    "            \n",
    "        # Instanciamento da classe\n",
    "        pipeline = HealthInsurance()\n",
    "        \n",
    "        # Limpeza dos dados\n",
    "        df1 = pipeline.data_cleaning(test_raw)\n",
    "        \n",
    "        # Preparação dos dados\n",
    "        df2 = pipeline.data_preparation(df1)\n",
    "        \n",
    "        # Predição do modelo\n",
    "        df_response = pipeline.get_prediction( model, test_raw, df2 )\n",
    "        \n",
    "        return df_response\n",
    "    \n",
    "    else:\n",
    "        return Response( '{}', status=200, mimetype='application/json' )\n",
    "    \n",
    "if __name__ == '__main__':\n",
    "    app.run( '0.0.0.0', debug=True )"
   ]
  },
  {
   "cell_type": "markdown",
   "id": "45ce418e",
   "metadata": {
    "heading_collapsed": true,
    "hidden": true
   },
   "source": [
    "## Teste"
   ]
  },
  {
   "cell_type": "markdown",
   "id": "fda3f98a",
   "metadata": {
    "heading_collapsed": true,
    "hidden": true
   },
   "source": [
    "### Modelo em produção na nuvem"
   ]
  },
  {
   "cell_type": "code",
   "execution_count": 109,
   "id": "3a4f698e",
   "metadata": {
    "hidden": true
   },
   "outputs": [
    {
     "name": "stdout",
     "output_type": "stream",
     "text": [
      "Status Code 502\n"
     ]
    },
    {
     "ename": "JSONDecodeError",
     "evalue": "Expecting value: line 1 column 1 (char 0)",
     "output_type": "error",
     "traceback": [
      "\u001b[1;31m---------------------------------------------------------------------------\u001b[0m",
      "\u001b[1;31mJSONDecodeError\u001b[0m                           Traceback (most recent call last)",
      "File \u001b[1;32m~\\anaconda3\\envs\\health_insurance_cross_sell\\Lib\\site-packages\\requests\\models.py:971\u001b[0m, in \u001b[0;36mResponse.json\u001b[1;34m(self, **kwargs)\u001b[0m\n\u001b[0;32m    970\u001b[0m \u001b[38;5;28;01mtry\u001b[39;00m:\n\u001b[1;32m--> 971\u001b[0m     \u001b[38;5;28;01mreturn\u001b[39;00m complexjson\u001b[38;5;241m.\u001b[39mloads(\u001b[38;5;28mself\u001b[39m\u001b[38;5;241m.\u001b[39mtext, \u001b[38;5;241m*\u001b[39m\u001b[38;5;241m*\u001b[39mkwargs)\n\u001b[0;32m    972\u001b[0m \u001b[38;5;28;01mexcept\u001b[39;00m JSONDecodeError \u001b[38;5;28;01mas\u001b[39;00m e:\n\u001b[0;32m    973\u001b[0m     \u001b[38;5;66;03m# Catch JSON-related errors and raise as requests.JSONDecodeError\u001b[39;00m\n\u001b[0;32m    974\u001b[0m     \u001b[38;5;66;03m# This aliases json.JSONDecodeError and simplejson.JSONDecodeError\u001b[39;00m\n",
      "File \u001b[1;32m~\\anaconda3\\envs\\health_insurance_cross_sell\\Lib\\json\\__init__.py:346\u001b[0m, in \u001b[0;36mloads\u001b[1;34m(s, cls, object_hook, parse_float, parse_int, parse_constant, object_pairs_hook, **kw)\u001b[0m\n\u001b[0;32m    343\u001b[0m \u001b[38;5;28;01mif\u001b[39;00m (\u001b[38;5;28mcls\u001b[39m \u001b[38;5;129;01mis\u001b[39;00m \u001b[38;5;28;01mNone\u001b[39;00m \u001b[38;5;129;01mand\u001b[39;00m object_hook \u001b[38;5;129;01mis\u001b[39;00m \u001b[38;5;28;01mNone\u001b[39;00m \u001b[38;5;129;01mand\u001b[39;00m\n\u001b[0;32m    344\u001b[0m         parse_int \u001b[38;5;129;01mis\u001b[39;00m \u001b[38;5;28;01mNone\u001b[39;00m \u001b[38;5;129;01mand\u001b[39;00m parse_float \u001b[38;5;129;01mis\u001b[39;00m \u001b[38;5;28;01mNone\u001b[39;00m \u001b[38;5;129;01mand\u001b[39;00m\n\u001b[0;32m    345\u001b[0m         parse_constant \u001b[38;5;129;01mis\u001b[39;00m \u001b[38;5;28;01mNone\u001b[39;00m \u001b[38;5;129;01mand\u001b[39;00m object_pairs_hook \u001b[38;5;129;01mis\u001b[39;00m \u001b[38;5;28;01mNone\u001b[39;00m \u001b[38;5;129;01mand\u001b[39;00m \u001b[38;5;129;01mnot\u001b[39;00m kw):\n\u001b[1;32m--> 346\u001b[0m     \u001b[38;5;28;01mreturn\u001b[39;00m _default_decoder\u001b[38;5;241m.\u001b[39mdecode(s)\n\u001b[0;32m    347\u001b[0m \u001b[38;5;28;01mif\u001b[39;00m \u001b[38;5;28mcls\u001b[39m \u001b[38;5;129;01mis\u001b[39;00m \u001b[38;5;28;01mNone\u001b[39;00m:\n",
      "File \u001b[1;32m~\\anaconda3\\envs\\health_insurance_cross_sell\\Lib\\json\\decoder.py:337\u001b[0m, in \u001b[0;36mJSONDecoder.decode\u001b[1;34m(self, s, _w)\u001b[0m\n\u001b[0;32m    333\u001b[0m \u001b[38;5;250m\u001b[39m\u001b[38;5;124;03m\"\"\"Return the Python representation of ``s`` (a ``str`` instance\u001b[39;00m\n\u001b[0;32m    334\u001b[0m \u001b[38;5;124;03mcontaining a JSON document).\u001b[39;00m\n\u001b[0;32m    335\u001b[0m \n\u001b[0;32m    336\u001b[0m \u001b[38;5;124;03m\"\"\"\u001b[39;00m\n\u001b[1;32m--> 337\u001b[0m obj, end \u001b[38;5;241m=\u001b[39m \u001b[38;5;28mself\u001b[39m\u001b[38;5;241m.\u001b[39mraw_decode(s, idx\u001b[38;5;241m=\u001b[39m_w(s, \u001b[38;5;241m0\u001b[39m)\u001b[38;5;241m.\u001b[39mend())\n\u001b[0;32m    338\u001b[0m end \u001b[38;5;241m=\u001b[39m _w(s, end)\u001b[38;5;241m.\u001b[39mend()\n",
      "File \u001b[1;32m~\\anaconda3\\envs\\health_insurance_cross_sell\\Lib\\json\\decoder.py:355\u001b[0m, in \u001b[0;36mJSONDecoder.raw_decode\u001b[1;34m(self, s, idx)\u001b[0m\n\u001b[0;32m    354\u001b[0m \u001b[38;5;28;01mexcept\u001b[39;00m \u001b[38;5;167;01mStopIteration\u001b[39;00m \u001b[38;5;28;01mas\u001b[39;00m err:\n\u001b[1;32m--> 355\u001b[0m     \u001b[38;5;28;01mraise\u001b[39;00m JSONDecodeError(\u001b[38;5;124m\"\u001b[39m\u001b[38;5;124mExpecting value\u001b[39m\u001b[38;5;124m\"\u001b[39m, s, err\u001b[38;5;241m.\u001b[39mvalue) \u001b[38;5;28;01mfrom\u001b[39;00m \u001b[38;5;28;01mNone\u001b[39;00m\n\u001b[0;32m    356\u001b[0m \u001b[38;5;28;01mreturn\u001b[39;00m obj, end\n",
      "\u001b[1;31mJSONDecodeError\u001b[0m: Expecting value: line 1 column 1 (char 0)",
      "\nDuring handling of the above exception, another exception occurred:\n",
      "\u001b[1;31mJSONDecodeError\u001b[0m                           Traceback (most recent call last)",
      "Cell \u001b[1;32mIn[109], line 25\u001b[0m\n\u001b[0;32m     20\u001b[0m \u001b[38;5;28mprint\u001b[39m( \u001b[38;5;124m'\u001b[39m\u001b[38;5;124mStatus Code \u001b[39m\u001b[38;5;132;01m{}\u001b[39;00m\u001b[38;5;124m'\u001b[39m\u001b[38;5;241m.\u001b[39mformat( r\u001b[38;5;241m.\u001b[39mstatus_code ) )\n\u001b[0;32m     23\u001b[0m \u001b[38;5;66;03m# Recebimento dos dados e ordenação pelo score\u001b[39;00m\n\u001b[1;32m---> 25\u001b[0m d1 \u001b[38;5;241m=\u001b[39m pd\u001b[38;5;241m.\u001b[39mDataFrame( r\u001b[38;5;241m.\u001b[39mjson(), columns\u001b[38;5;241m=\u001b[39mr\u001b[38;5;241m.\u001b[39mjson()[\u001b[38;5;241m0\u001b[39m]\u001b[38;5;241m.\u001b[39mkeys() )\n\u001b[0;32m     26\u001b[0m d1\u001b[38;5;241m.\u001b[39msort_values( \u001b[38;5;124m'\u001b[39m\u001b[38;5;124mscore\u001b[39m\u001b[38;5;124m'\u001b[39m, ascending\u001b[38;5;241m=\u001b[39m\u001b[38;5;28;01mFalse\u001b[39;00m )\u001b[38;5;241m.\u001b[39mhead(\u001b[38;5;241m15\u001b[39m)\n",
      "File \u001b[1;32m~\\anaconda3\\envs\\health_insurance_cross_sell\\Lib\\site-packages\\requests\\models.py:975\u001b[0m, in \u001b[0;36mResponse.json\u001b[1;34m(self, **kwargs)\u001b[0m\n\u001b[0;32m    971\u001b[0m     \u001b[38;5;28;01mreturn\u001b[39;00m complexjson\u001b[38;5;241m.\u001b[39mloads(\u001b[38;5;28mself\u001b[39m\u001b[38;5;241m.\u001b[39mtext, \u001b[38;5;241m*\u001b[39m\u001b[38;5;241m*\u001b[39mkwargs)\n\u001b[0;32m    972\u001b[0m \u001b[38;5;28;01mexcept\u001b[39;00m JSONDecodeError \u001b[38;5;28;01mas\u001b[39;00m e:\n\u001b[0;32m    973\u001b[0m     \u001b[38;5;66;03m# Catch JSON-related errors and raise as requests.JSONDecodeError\u001b[39;00m\n\u001b[0;32m    974\u001b[0m     \u001b[38;5;66;03m# This aliases json.JSONDecodeError and simplejson.JSONDecodeError\u001b[39;00m\n\u001b[1;32m--> 975\u001b[0m     \u001b[38;5;28;01mraise\u001b[39;00m RequestsJSONDecodeError(e\u001b[38;5;241m.\u001b[39mmsg, e\u001b[38;5;241m.\u001b[39mdoc, e\u001b[38;5;241m.\u001b[39mpos)\n",
      "\u001b[1;31mJSONDecodeError\u001b[0m: Expecting value: line 1 column 1 (char 0)"
     ]
    }
   ],
   "source": [
    "# Criação dos dados\n",
    "\n",
    "df_test = pd.read_csv (\"C:\\\\Users\\\\victo\\\\repos\\\\comunidade_ds\\\\pa_health_insurance_cross_sell\\\\data\\\\raw\\\\test.csv\")\n",
    "\n",
    "df_test = df_test.sample(15)\n",
    "\n",
    "\n",
    "# Conversão dos dados em JSON\n",
    "\n",
    "data = json.dumps( df_test.to_dict( orient='records' ) )\n",
    "\n",
    "\n",
    "# Requisição da API\n",
    "\n",
    "# url = 'http://127.0.0.1:5000/predict'\n",
    "url = 'https://health-insurance-cross-sell-dvkh.onrender.com/predict'\n",
    "header = {'Content-type': 'application/json' }\n",
    "\n",
    "r = requests.post( url, data=data, headers=header )\n",
    "print( 'Status Code {}'.format( r.status_code ) )\n",
    "\n",
    "\n",
    "# Recebimento dos dados e ordenação pelo score\n",
    "\n",
    "d1 = pd.DataFrame( r.json(), columns=r.json()[0].keys() )\n",
    "d1.sort_values( 'score', ascending=False ).head(15)"
   ]
  },
  {
   "cell_type": "markdown",
   "id": "59783f4a",
   "metadata": {
    "heading_collapsed": true,
    "hidden": true
   },
   "source": [
    "### Requisição pelo google sheets"
   ]
  },
  {
   "cell_type": "code",
   "execution_count": 56,
   "id": "eb3155a8",
   "metadata": {
    "hidden": true,
    "scrolled": true
   },
   "outputs": [
    {
     "data": {
      "text/html": [
       "<div>\n",
       "<style scoped>\n",
       "    .dataframe tbody tr th:only-of-type {\n",
       "        vertical-align: middle;\n",
       "    }\n",
       "\n",
       "    .dataframe tbody tr th {\n",
       "        vertical-align: top;\n",
       "    }\n",
       "\n",
       "    .dataframe thead th {\n",
       "        text-align: right;\n",
       "    }\n",
       "</style>\n",
       "<table border=\"1\" class=\"dataframe\">\n",
       "  <thead>\n",
       "    <tr style=\"text-align: right;\">\n",
       "      <th></th>\n",
       "      <th>id</th>\n",
       "      <th>Gender</th>\n",
       "      <th>Age</th>\n",
       "      <th>Driving_License</th>\n",
       "      <th>Region_Code</th>\n",
       "      <th>Previously_Insured</th>\n",
       "      <th>Vehicle_Age</th>\n",
       "      <th>Vehicle_Damage</th>\n",
       "      <th>Annual_Premium</th>\n",
       "      <th>Policy_Sales_Channel</th>\n",
       "      <th>Vintage</th>\n",
       "    </tr>\n",
       "  </thead>\n",
       "  <tbody>\n",
       "    <tr>\n",
       "      <th>110614</th>\n",
       "      <td>491724</td>\n",
       "      <td>Female</td>\n",
       "      <td>36</td>\n",
       "      <td>1</td>\n",
       "      <td>29.0</td>\n",
       "      <td>0</td>\n",
       "      <td>1-2 Year</td>\n",
       "      <td>Yes</td>\n",
       "      <td>2630.0</td>\n",
       "      <td>156.0</td>\n",
       "      <td>56</td>\n",
       "    </tr>\n",
       "    <tr>\n",
       "      <th>87053</th>\n",
       "      <td>468163</td>\n",
       "      <td>Female</td>\n",
       "      <td>43</td>\n",
       "      <td>1</td>\n",
       "      <td>21.0</td>\n",
       "      <td>0</td>\n",
       "      <td>1-2 Year</td>\n",
       "      <td>Yes</td>\n",
       "      <td>32003.0</td>\n",
       "      <td>124.0</td>\n",
       "      <td>162</td>\n",
       "    </tr>\n",
       "    <tr>\n",
       "      <th>38340</th>\n",
       "      <td>419450</td>\n",
       "      <td>Male</td>\n",
       "      <td>22</td>\n",
       "      <td>1</td>\n",
       "      <td>28.0</td>\n",
       "      <td>1</td>\n",
       "      <td>&lt; 1 Year</td>\n",
       "      <td>No</td>\n",
       "      <td>31631.0</td>\n",
       "      <td>160.0</td>\n",
       "      <td>128</td>\n",
       "    </tr>\n",
       "    <tr>\n",
       "      <th>3200</th>\n",
       "      <td>384310</td>\n",
       "      <td>Male</td>\n",
       "      <td>25</td>\n",
       "      <td>1</td>\n",
       "      <td>50.0</td>\n",
       "      <td>1</td>\n",
       "      <td>&lt; 1 Year</td>\n",
       "      <td>No</td>\n",
       "      <td>31831.0</td>\n",
       "      <td>152.0</td>\n",
       "      <td>262</td>\n",
       "    </tr>\n",
       "    <tr>\n",
       "      <th>3896</th>\n",
       "      <td>385006</td>\n",
       "      <td>Male</td>\n",
       "      <td>33</td>\n",
       "      <td>1</td>\n",
       "      <td>41.0</td>\n",
       "      <td>1</td>\n",
       "      <td>&lt; 1 Year</td>\n",
       "      <td>No</td>\n",
       "      <td>38284.0</td>\n",
       "      <td>152.0</td>\n",
       "      <td>256</td>\n",
       "    </tr>\n",
       "    <tr>\n",
       "      <th>98769</th>\n",
       "      <td>479879</td>\n",
       "      <td>Female</td>\n",
       "      <td>22</td>\n",
       "      <td>1</td>\n",
       "      <td>8.0</td>\n",
       "      <td>0</td>\n",
       "      <td>1-2 Year</td>\n",
       "      <td>Yes</td>\n",
       "      <td>61626.0</td>\n",
       "      <td>124.0</td>\n",
       "      <td>120</td>\n",
       "    </tr>\n",
       "    <tr>\n",
       "      <th>13846</th>\n",
       "      <td>394956</td>\n",
       "      <td>Female</td>\n",
       "      <td>28</td>\n",
       "      <td>1</td>\n",
       "      <td>30.0</td>\n",
       "      <td>1</td>\n",
       "      <td>&lt; 1 Year</td>\n",
       "      <td>No</td>\n",
       "      <td>25345.0</td>\n",
       "      <td>152.0</td>\n",
       "      <td>244</td>\n",
       "    </tr>\n",
       "    <tr>\n",
       "      <th>60311</th>\n",
       "      <td>441421</td>\n",
       "      <td>Male</td>\n",
       "      <td>52</td>\n",
       "      <td>1</td>\n",
       "      <td>20.0</td>\n",
       "      <td>0</td>\n",
       "      <td>&gt; 2 Years</td>\n",
       "      <td>Yes</td>\n",
       "      <td>2630.0</td>\n",
       "      <td>26.0</td>\n",
       "      <td>264</td>\n",
       "    </tr>\n",
       "    <tr>\n",
       "      <th>963</th>\n",
       "      <td>382073</td>\n",
       "      <td>Male</td>\n",
       "      <td>25</td>\n",
       "      <td>1</td>\n",
       "      <td>11.0</td>\n",
       "      <td>1</td>\n",
       "      <td>&lt; 1 Year</td>\n",
       "      <td>No</td>\n",
       "      <td>32819.0</td>\n",
       "      <td>152.0</td>\n",
       "      <td>298</td>\n",
       "    </tr>\n",
       "    <tr>\n",
       "      <th>95290</th>\n",
       "      <td>476400</td>\n",
       "      <td>Male</td>\n",
       "      <td>60</td>\n",
       "      <td>1</td>\n",
       "      <td>8.0</td>\n",
       "      <td>1</td>\n",
       "      <td>1-2 Year</td>\n",
       "      <td>Yes</td>\n",
       "      <td>2630.0</td>\n",
       "      <td>26.0</td>\n",
       "      <td>164</td>\n",
       "    </tr>\n",
       "    <tr>\n",
       "      <th>105683</th>\n",
       "      <td>486793</td>\n",
       "      <td>Male</td>\n",
       "      <td>43</td>\n",
       "      <td>1</td>\n",
       "      <td>34.0</td>\n",
       "      <td>0</td>\n",
       "      <td>1-2 Year</td>\n",
       "      <td>Yes</td>\n",
       "      <td>33992.0</td>\n",
       "      <td>124.0</td>\n",
       "      <td>153</td>\n",
       "    </tr>\n",
       "    <tr>\n",
       "      <th>35202</th>\n",
       "      <td>416312</td>\n",
       "      <td>Female</td>\n",
       "      <td>41</td>\n",
       "      <td>1</td>\n",
       "      <td>28.0</td>\n",
       "      <td>0</td>\n",
       "      <td>1-2 Year</td>\n",
       "      <td>Yes</td>\n",
       "      <td>2630.0</td>\n",
       "      <td>157.0</td>\n",
       "      <td>170</td>\n",
       "    </tr>\n",
       "    <tr>\n",
       "      <th>43172</th>\n",
       "      <td>424282</td>\n",
       "      <td>Male</td>\n",
       "      <td>24</td>\n",
       "      <td>1</td>\n",
       "      <td>22.0</td>\n",
       "      <td>0</td>\n",
       "      <td>&lt; 1 Year</td>\n",
       "      <td>Yes</td>\n",
       "      <td>2630.0</td>\n",
       "      <td>152.0</td>\n",
       "      <td>38</td>\n",
       "    </tr>\n",
       "    <tr>\n",
       "      <th>26040</th>\n",
       "      <td>407150</td>\n",
       "      <td>Male</td>\n",
       "      <td>26</td>\n",
       "      <td>1</td>\n",
       "      <td>45.0</td>\n",
       "      <td>1</td>\n",
       "      <td>&lt; 1 Year</td>\n",
       "      <td>No</td>\n",
       "      <td>41984.0</td>\n",
       "      <td>152.0</td>\n",
       "      <td>291</td>\n",
       "    </tr>\n",
       "    <tr>\n",
       "      <th>52304</th>\n",
       "      <td>433414</td>\n",
       "      <td>Male</td>\n",
       "      <td>35</td>\n",
       "      <td>1</td>\n",
       "      <td>19.0</td>\n",
       "      <td>0</td>\n",
       "      <td>1-2 Year</td>\n",
       "      <td>Yes</td>\n",
       "      <td>27981.0</td>\n",
       "      <td>124.0</td>\n",
       "      <td>258</td>\n",
       "    </tr>\n",
       "    <tr>\n",
       "      <th>100730</th>\n",
       "      <td>481840</td>\n",
       "      <td>Male</td>\n",
       "      <td>20</td>\n",
       "      <td>1</td>\n",
       "      <td>46.0</td>\n",
       "      <td>1</td>\n",
       "      <td>&lt; 1 Year</td>\n",
       "      <td>No</td>\n",
       "      <td>41610.0</td>\n",
       "      <td>160.0</td>\n",
       "      <td>163</td>\n",
       "    </tr>\n",
       "    <tr>\n",
       "      <th>18314</th>\n",
       "      <td>399424</td>\n",
       "      <td>Female</td>\n",
       "      <td>21</td>\n",
       "      <td>1</td>\n",
       "      <td>41.0</td>\n",
       "      <td>1</td>\n",
       "      <td>&lt; 1 Year</td>\n",
       "      <td>No</td>\n",
       "      <td>29672.0</td>\n",
       "      <td>152.0</td>\n",
       "      <td>62</td>\n",
       "    </tr>\n",
       "    <tr>\n",
       "      <th>120425</th>\n",
       "      <td>501535</td>\n",
       "      <td>Female</td>\n",
       "      <td>79</td>\n",
       "      <td>1</td>\n",
       "      <td>28.0</td>\n",
       "      <td>0</td>\n",
       "      <td>1-2 Year</td>\n",
       "      <td>Yes</td>\n",
       "      <td>2630.0</td>\n",
       "      <td>26.0</td>\n",
       "      <td>135</td>\n",
       "    </tr>\n",
       "    <tr>\n",
       "      <th>42160</th>\n",
       "      <td>423270</td>\n",
       "      <td>Female</td>\n",
       "      <td>67</td>\n",
       "      <td>1</td>\n",
       "      <td>8.0</td>\n",
       "      <td>0</td>\n",
       "      <td>1-2 Year</td>\n",
       "      <td>Yes</td>\n",
       "      <td>30390.0</td>\n",
       "      <td>124.0</td>\n",
       "      <td>175</td>\n",
       "    </tr>\n",
       "    <tr>\n",
       "      <th>65240</th>\n",
       "      <td>446350</td>\n",
       "      <td>Male</td>\n",
       "      <td>56</td>\n",
       "      <td>1</td>\n",
       "      <td>0.0</td>\n",
       "      <td>1</td>\n",
       "      <td>1-2 Year</td>\n",
       "      <td>No</td>\n",
       "      <td>2630.0</td>\n",
       "      <td>55.0</td>\n",
       "      <td>271</td>\n",
       "    </tr>\n",
       "    <tr>\n",
       "      <th>42562</th>\n",
       "      <td>423672</td>\n",
       "      <td>Male</td>\n",
       "      <td>38</td>\n",
       "      <td>1</td>\n",
       "      <td>28.0</td>\n",
       "      <td>0</td>\n",
       "      <td>1-2 Year</td>\n",
       "      <td>Yes</td>\n",
       "      <td>2630.0</td>\n",
       "      <td>124.0</td>\n",
       "      <td>131</td>\n",
       "    </tr>\n",
       "    <tr>\n",
       "      <th>21970</th>\n",
       "      <td>403080</td>\n",
       "      <td>Female</td>\n",
       "      <td>31</td>\n",
       "      <td>1</td>\n",
       "      <td>12.0</td>\n",
       "      <td>1</td>\n",
       "      <td>&lt; 1 Year</td>\n",
       "      <td>No</td>\n",
       "      <td>2630.0</td>\n",
       "      <td>151.0</td>\n",
       "      <td>191</td>\n",
       "    </tr>\n",
       "    <tr>\n",
       "      <th>16520</th>\n",
       "      <td>397630</td>\n",
       "      <td>Female</td>\n",
       "      <td>73</td>\n",
       "      <td>1</td>\n",
       "      <td>28.0</td>\n",
       "      <td>1</td>\n",
       "      <td>1-2 Year</td>\n",
       "      <td>No</td>\n",
       "      <td>36832.0</td>\n",
       "      <td>139.0</td>\n",
       "      <td>177</td>\n",
       "    </tr>\n",
       "    <tr>\n",
       "      <th>22768</th>\n",
       "      <td>403878</td>\n",
       "      <td>Male</td>\n",
       "      <td>42</td>\n",
       "      <td>1</td>\n",
       "      <td>11.0</td>\n",
       "      <td>0</td>\n",
       "      <td>1-2 Year</td>\n",
       "      <td>Yes</td>\n",
       "      <td>55942.0</td>\n",
       "      <td>124.0</td>\n",
       "      <td>51</td>\n",
       "    </tr>\n",
       "    <tr>\n",
       "      <th>22326</th>\n",
       "      <td>403436</td>\n",
       "      <td>Female</td>\n",
       "      <td>24</td>\n",
       "      <td>1</td>\n",
       "      <td>6.0</td>\n",
       "      <td>1</td>\n",
       "      <td>&lt; 1 Year</td>\n",
       "      <td>No</td>\n",
       "      <td>37715.0</td>\n",
       "      <td>152.0</td>\n",
       "      <td>87</td>\n",
       "    </tr>\n",
       "    <tr>\n",
       "      <th>22268</th>\n",
       "      <td>403378</td>\n",
       "      <td>Male</td>\n",
       "      <td>41</td>\n",
       "      <td>1</td>\n",
       "      <td>28.0</td>\n",
       "      <td>0</td>\n",
       "      <td>1-2 Year</td>\n",
       "      <td>Yes</td>\n",
       "      <td>2630.0</td>\n",
       "      <td>124.0</td>\n",
       "      <td>290</td>\n",
       "    </tr>\n",
       "    <tr>\n",
       "      <th>97118</th>\n",
       "      <td>478228</td>\n",
       "      <td>Male</td>\n",
       "      <td>55</td>\n",
       "      <td>1</td>\n",
       "      <td>28.0</td>\n",
       "      <td>0</td>\n",
       "      <td>1-2 Year</td>\n",
       "      <td>Yes</td>\n",
       "      <td>44360.0</td>\n",
       "      <td>124.0</td>\n",
       "      <td>293</td>\n",
       "    </tr>\n",
       "    <tr>\n",
       "      <th>58108</th>\n",
       "      <td>439218</td>\n",
       "      <td>Male</td>\n",
       "      <td>58</td>\n",
       "      <td>1</td>\n",
       "      <td>14.0</td>\n",
       "      <td>0</td>\n",
       "      <td>1-2 Year</td>\n",
       "      <td>Yes</td>\n",
       "      <td>26303.0</td>\n",
       "      <td>26.0</td>\n",
       "      <td>247</td>\n",
       "    </tr>\n",
       "    <tr>\n",
       "      <th>60451</th>\n",
       "      <td>441561</td>\n",
       "      <td>Female</td>\n",
       "      <td>24</td>\n",
       "      <td>1</td>\n",
       "      <td>28.0</td>\n",
       "      <td>0</td>\n",
       "      <td>&lt; 1 Year</td>\n",
       "      <td>Yes</td>\n",
       "      <td>49769.0</td>\n",
       "      <td>152.0</td>\n",
       "      <td>134</td>\n",
       "    </tr>\n",
       "    <tr>\n",
       "      <th>58619</th>\n",
       "      <td>439729</td>\n",
       "      <td>Male</td>\n",
       "      <td>30</td>\n",
       "      <td>1</td>\n",
       "      <td>18.0</td>\n",
       "      <td>1</td>\n",
       "      <td>&lt; 1 Year</td>\n",
       "      <td>Yes</td>\n",
       "      <td>37862.0</td>\n",
       "      <td>152.0</td>\n",
       "      <td>10</td>\n",
       "    </tr>\n",
       "    <tr>\n",
       "      <th>95206</th>\n",
       "      <td>476316</td>\n",
       "      <td>Female</td>\n",
       "      <td>45</td>\n",
       "      <td>1</td>\n",
       "      <td>29.0</td>\n",
       "      <td>0</td>\n",
       "      <td>1-2 Year</td>\n",
       "      <td>Yes</td>\n",
       "      <td>33183.0</td>\n",
       "      <td>26.0</td>\n",
       "      <td>48</td>\n",
       "    </tr>\n",
       "    <tr>\n",
       "      <th>44051</th>\n",
       "      <td>425161</td>\n",
       "      <td>Male</td>\n",
       "      <td>22</td>\n",
       "      <td>1</td>\n",
       "      <td>8.0</td>\n",
       "      <td>1</td>\n",
       "      <td>&lt; 1 Year</td>\n",
       "      <td>No</td>\n",
       "      <td>27387.0</td>\n",
       "      <td>160.0</td>\n",
       "      <td>179</td>\n",
       "    </tr>\n",
       "    <tr>\n",
       "      <th>83358</th>\n",
       "      <td>464468</td>\n",
       "      <td>Male</td>\n",
       "      <td>58</td>\n",
       "      <td>1</td>\n",
       "      <td>37.0</td>\n",
       "      <td>1</td>\n",
       "      <td>1-2 Year</td>\n",
       "      <td>No</td>\n",
       "      <td>35605.0</td>\n",
       "      <td>124.0</td>\n",
       "      <td>114</td>\n",
       "    </tr>\n",
       "    <tr>\n",
       "      <th>6576</th>\n",
       "      <td>387686</td>\n",
       "      <td>Male</td>\n",
       "      <td>39</td>\n",
       "      <td>1</td>\n",
       "      <td>30.0</td>\n",
       "      <td>1</td>\n",
       "      <td>1-2 Year</td>\n",
       "      <td>No</td>\n",
       "      <td>2630.0</td>\n",
       "      <td>152.0</td>\n",
       "      <td>252</td>\n",
       "    </tr>\n",
       "    <tr>\n",
       "      <th>37927</th>\n",
       "      <td>419037</td>\n",
       "      <td>Male</td>\n",
       "      <td>56</td>\n",
       "      <td>1</td>\n",
       "      <td>24.0</td>\n",
       "      <td>0</td>\n",
       "      <td>1-2 Year</td>\n",
       "      <td>Yes</td>\n",
       "      <td>2630.0</td>\n",
       "      <td>124.0</td>\n",
       "      <td>181</td>\n",
       "    </tr>\n",
       "    <tr>\n",
       "      <th>14180</th>\n",
       "      <td>395290</td>\n",
       "      <td>Male</td>\n",
       "      <td>80</td>\n",
       "      <td>1</td>\n",
       "      <td>6.0</td>\n",
       "      <td>1</td>\n",
       "      <td>1-2 Year</td>\n",
       "      <td>No</td>\n",
       "      <td>30449.0</td>\n",
       "      <td>26.0</td>\n",
       "      <td>39</td>\n",
       "    </tr>\n",
       "    <tr>\n",
       "      <th>50915</th>\n",
       "      <td>432025</td>\n",
       "      <td>Male</td>\n",
       "      <td>64</td>\n",
       "      <td>1</td>\n",
       "      <td>8.0</td>\n",
       "      <td>1</td>\n",
       "      <td>1-2 Year</td>\n",
       "      <td>No</td>\n",
       "      <td>38968.0</td>\n",
       "      <td>124.0</td>\n",
       "      <td>95</td>\n",
       "    </tr>\n",
       "    <tr>\n",
       "      <th>73095</th>\n",
       "      <td>454205</td>\n",
       "      <td>Female</td>\n",
       "      <td>52</td>\n",
       "      <td>1</td>\n",
       "      <td>48.0</td>\n",
       "      <td>1</td>\n",
       "      <td>1-2 Year</td>\n",
       "      <td>No</td>\n",
       "      <td>2630.0</td>\n",
       "      <td>26.0</td>\n",
       "      <td>274</td>\n",
       "    </tr>\n",
       "    <tr>\n",
       "      <th>62209</th>\n",
       "      <td>443319</td>\n",
       "      <td>Male</td>\n",
       "      <td>53</td>\n",
       "      <td>1</td>\n",
       "      <td>28.0</td>\n",
       "      <td>0</td>\n",
       "      <td>1-2 Year</td>\n",
       "      <td>Yes</td>\n",
       "      <td>48399.0</td>\n",
       "      <td>26.0</td>\n",
       "      <td>233</td>\n",
       "    </tr>\n",
       "    <tr>\n",
       "      <th>98436</th>\n",
       "      <td>479546</td>\n",
       "      <td>Male</td>\n",
       "      <td>23</td>\n",
       "      <td>1</td>\n",
       "      <td>8.0</td>\n",
       "      <td>1</td>\n",
       "      <td>&lt; 1 Year</td>\n",
       "      <td>No</td>\n",
       "      <td>52169.0</td>\n",
       "      <td>152.0</td>\n",
       "      <td>23</td>\n",
       "    </tr>\n",
       "    <tr>\n",
       "      <th>74136</th>\n",
       "      <td>455246</td>\n",
       "      <td>Female</td>\n",
       "      <td>27</td>\n",
       "      <td>1</td>\n",
       "      <td>21.0</td>\n",
       "      <td>1</td>\n",
       "      <td>&lt; 1 Year</td>\n",
       "      <td>No</td>\n",
       "      <td>19871.0</td>\n",
       "      <td>152.0</td>\n",
       "      <td>112</td>\n",
       "    </tr>\n",
       "    <tr>\n",
       "      <th>32303</th>\n",
       "      <td>413413</td>\n",
       "      <td>Female</td>\n",
       "      <td>74</td>\n",
       "      <td>1</td>\n",
       "      <td>28.0</td>\n",
       "      <td>0</td>\n",
       "      <td>1-2 Year</td>\n",
       "      <td>Yes</td>\n",
       "      <td>36338.0</td>\n",
       "      <td>124.0</td>\n",
       "      <td>42</td>\n",
       "    </tr>\n",
       "    <tr>\n",
       "      <th>58575</th>\n",
       "      <td>439685</td>\n",
       "      <td>Female</td>\n",
       "      <td>34</td>\n",
       "      <td>1</td>\n",
       "      <td>28.0</td>\n",
       "      <td>0</td>\n",
       "      <td>1-2 Year</td>\n",
       "      <td>No</td>\n",
       "      <td>26267.0</td>\n",
       "      <td>124.0</td>\n",
       "      <td>212</td>\n",
       "    </tr>\n",
       "    <tr>\n",
       "      <th>115656</th>\n",
       "      <td>496766</td>\n",
       "      <td>Male</td>\n",
       "      <td>27</td>\n",
       "      <td>1</td>\n",
       "      <td>23.0</td>\n",
       "      <td>1</td>\n",
       "      <td>1-2 Year</td>\n",
       "      <td>No</td>\n",
       "      <td>2630.0</td>\n",
       "      <td>124.0</td>\n",
       "      <td>197</td>\n",
       "    </tr>\n",
       "    <tr>\n",
       "      <th>38388</th>\n",
       "      <td>419498</td>\n",
       "      <td>Male</td>\n",
       "      <td>70</td>\n",
       "      <td>0</td>\n",
       "      <td>28.0</td>\n",
       "      <td>0</td>\n",
       "      <td>1-2 Year</td>\n",
       "      <td>Yes</td>\n",
       "      <td>26438.0</td>\n",
       "      <td>26.0</td>\n",
       "      <td>59</td>\n",
       "    </tr>\n",
       "    <tr>\n",
       "      <th>37960</th>\n",
       "      <td>419070</td>\n",
       "      <td>Female</td>\n",
       "      <td>24</td>\n",
       "      <td>1</td>\n",
       "      <td>50.0</td>\n",
       "      <td>1</td>\n",
       "      <td>&lt; 1 Year</td>\n",
       "      <td>No</td>\n",
       "      <td>34953.0</td>\n",
       "      <td>152.0</td>\n",
       "      <td>138</td>\n",
       "    </tr>\n",
       "    <tr>\n",
       "      <th>12728</th>\n",
       "      <td>393838</td>\n",
       "      <td>Male</td>\n",
       "      <td>28</td>\n",
       "      <td>1</td>\n",
       "      <td>9.0</td>\n",
       "      <td>0</td>\n",
       "      <td>1-2 Year</td>\n",
       "      <td>Yes</td>\n",
       "      <td>2630.0</td>\n",
       "      <td>157.0</td>\n",
       "      <td>191</td>\n",
       "    </tr>\n",
       "    <tr>\n",
       "      <th>59820</th>\n",
       "      <td>440930</td>\n",
       "      <td>Male</td>\n",
       "      <td>25</td>\n",
       "      <td>1</td>\n",
       "      <td>36.0</td>\n",
       "      <td>0</td>\n",
       "      <td>&lt; 1 Year</td>\n",
       "      <td>No</td>\n",
       "      <td>31432.0</td>\n",
       "      <td>152.0</td>\n",
       "      <td>32</td>\n",
       "    </tr>\n",
       "    <tr>\n",
       "      <th>91893</th>\n",
       "      <td>473003</td>\n",
       "      <td>Male</td>\n",
       "      <td>56</td>\n",
       "      <td>1</td>\n",
       "      <td>37.0</td>\n",
       "      <td>0</td>\n",
       "      <td>1-2 Year</td>\n",
       "      <td>Yes</td>\n",
       "      <td>35421.0</td>\n",
       "      <td>26.0</td>\n",
       "      <td>200</td>\n",
       "    </tr>\n",
       "    <tr>\n",
       "      <th>63463</th>\n",
       "      <td>444573</td>\n",
       "      <td>Male</td>\n",
       "      <td>41</td>\n",
       "      <td>1</td>\n",
       "      <td>48.0</td>\n",
       "      <td>1</td>\n",
       "      <td>1-2 Year</td>\n",
       "      <td>No</td>\n",
       "      <td>2630.0</td>\n",
       "      <td>124.0</td>\n",
       "      <td>42</td>\n",
       "    </tr>\n",
       "  </tbody>\n",
       "</table>\n",
       "</div>"
      ],
      "text/plain": [
       "            id  Gender  Age  Driving_License  Region_Code  Previously_Insured  \\\n",
       "110614  491724  Female   36                1         29.0                   0   \n",
       "87053   468163  Female   43                1         21.0                   0   \n",
       "38340   419450    Male   22                1         28.0                   1   \n",
       "3200    384310    Male   25                1         50.0                   1   \n",
       "3896    385006    Male   33                1         41.0                   1   \n",
       "98769   479879  Female   22                1          8.0                   0   \n",
       "13846   394956  Female   28                1         30.0                   1   \n",
       "60311   441421    Male   52                1         20.0                   0   \n",
       "963     382073    Male   25                1         11.0                   1   \n",
       "95290   476400    Male   60                1          8.0                   1   \n",
       "105683  486793    Male   43                1         34.0                   0   \n",
       "35202   416312  Female   41                1         28.0                   0   \n",
       "43172   424282    Male   24                1         22.0                   0   \n",
       "26040   407150    Male   26                1         45.0                   1   \n",
       "52304   433414    Male   35                1         19.0                   0   \n",
       "100730  481840    Male   20                1         46.0                   1   \n",
       "18314   399424  Female   21                1         41.0                   1   \n",
       "120425  501535  Female   79                1         28.0                   0   \n",
       "42160   423270  Female   67                1          8.0                   0   \n",
       "65240   446350    Male   56                1          0.0                   1   \n",
       "42562   423672    Male   38                1         28.0                   0   \n",
       "21970   403080  Female   31                1         12.0                   1   \n",
       "16520   397630  Female   73                1         28.0                   1   \n",
       "22768   403878    Male   42                1         11.0                   0   \n",
       "22326   403436  Female   24                1          6.0                   1   \n",
       "22268   403378    Male   41                1         28.0                   0   \n",
       "97118   478228    Male   55                1         28.0                   0   \n",
       "58108   439218    Male   58                1         14.0                   0   \n",
       "60451   441561  Female   24                1         28.0                   0   \n",
       "58619   439729    Male   30                1         18.0                   1   \n",
       "95206   476316  Female   45                1         29.0                   0   \n",
       "44051   425161    Male   22                1          8.0                   1   \n",
       "83358   464468    Male   58                1         37.0                   1   \n",
       "6576    387686    Male   39                1         30.0                   1   \n",
       "37927   419037    Male   56                1         24.0                   0   \n",
       "14180   395290    Male   80                1          6.0                   1   \n",
       "50915   432025    Male   64                1          8.0                   1   \n",
       "73095   454205  Female   52                1         48.0                   1   \n",
       "62209   443319    Male   53                1         28.0                   0   \n",
       "98436   479546    Male   23                1          8.0                   1   \n",
       "74136   455246  Female   27                1         21.0                   1   \n",
       "32303   413413  Female   74                1         28.0                   0   \n",
       "58575   439685  Female   34                1         28.0                   0   \n",
       "115656  496766    Male   27                1         23.0                   1   \n",
       "38388   419498    Male   70                0         28.0                   0   \n",
       "37960   419070  Female   24                1         50.0                   1   \n",
       "12728   393838    Male   28                1          9.0                   0   \n",
       "59820   440930    Male   25                1         36.0                   0   \n",
       "91893   473003    Male   56                1         37.0                   0   \n",
       "63463   444573    Male   41                1         48.0                   1   \n",
       "\n",
       "       Vehicle_Age Vehicle_Damage  Annual_Premium  Policy_Sales_Channel  \\\n",
       "110614    1-2 Year            Yes          2630.0                 156.0   \n",
       "87053     1-2 Year            Yes         32003.0                 124.0   \n",
       "38340     < 1 Year             No         31631.0                 160.0   \n",
       "3200      < 1 Year             No         31831.0                 152.0   \n",
       "3896      < 1 Year             No         38284.0                 152.0   \n",
       "98769     1-2 Year            Yes         61626.0                 124.0   \n",
       "13846     < 1 Year             No         25345.0                 152.0   \n",
       "60311    > 2 Years            Yes          2630.0                  26.0   \n",
       "963       < 1 Year             No         32819.0                 152.0   \n",
       "95290     1-2 Year            Yes          2630.0                  26.0   \n",
       "105683    1-2 Year            Yes         33992.0                 124.0   \n",
       "35202     1-2 Year            Yes          2630.0                 157.0   \n",
       "43172     < 1 Year            Yes          2630.0                 152.0   \n",
       "26040     < 1 Year             No         41984.0                 152.0   \n",
       "52304     1-2 Year            Yes         27981.0                 124.0   \n",
       "100730    < 1 Year             No         41610.0                 160.0   \n",
       "18314     < 1 Year             No         29672.0                 152.0   \n",
       "120425    1-2 Year            Yes          2630.0                  26.0   \n",
       "42160     1-2 Year            Yes         30390.0                 124.0   \n",
       "65240     1-2 Year             No          2630.0                  55.0   \n",
       "42562     1-2 Year            Yes          2630.0                 124.0   \n",
       "21970     < 1 Year             No          2630.0                 151.0   \n",
       "16520     1-2 Year             No         36832.0                 139.0   \n",
       "22768     1-2 Year            Yes         55942.0                 124.0   \n",
       "22326     < 1 Year             No         37715.0                 152.0   \n",
       "22268     1-2 Year            Yes          2630.0                 124.0   \n",
       "97118     1-2 Year            Yes         44360.0                 124.0   \n",
       "58108     1-2 Year            Yes         26303.0                  26.0   \n",
       "60451     < 1 Year            Yes         49769.0                 152.0   \n",
       "58619     < 1 Year            Yes         37862.0                 152.0   \n",
       "95206     1-2 Year            Yes         33183.0                  26.0   \n",
       "44051     < 1 Year             No         27387.0                 160.0   \n",
       "83358     1-2 Year             No         35605.0                 124.0   \n",
       "6576      1-2 Year             No          2630.0                 152.0   \n",
       "37927     1-2 Year            Yes          2630.0                 124.0   \n",
       "14180     1-2 Year             No         30449.0                  26.0   \n",
       "50915     1-2 Year             No         38968.0                 124.0   \n",
       "73095     1-2 Year             No          2630.0                  26.0   \n",
       "62209     1-2 Year            Yes         48399.0                  26.0   \n",
       "98436     < 1 Year             No         52169.0                 152.0   \n",
       "74136     < 1 Year             No         19871.0                 152.0   \n",
       "32303     1-2 Year            Yes         36338.0                 124.0   \n",
       "58575     1-2 Year             No         26267.0                 124.0   \n",
       "115656    1-2 Year             No          2630.0                 124.0   \n",
       "38388     1-2 Year            Yes         26438.0                  26.0   \n",
       "37960     < 1 Year             No         34953.0                 152.0   \n",
       "12728     1-2 Year            Yes          2630.0                 157.0   \n",
       "59820     < 1 Year             No         31432.0                 152.0   \n",
       "91893     1-2 Year            Yes         35421.0                  26.0   \n",
       "63463     1-2 Year             No          2630.0                 124.0   \n",
       "\n",
       "        Vintage  \n",
       "110614       56  \n",
       "87053       162  \n",
       "38340       128  \n",
       "3200        262  \n",
       "3896        256  \n",
       "98769       120  \n",
       "13846       244  \n",
       "60311       264  \n",
       "963         298  \n",
       "95290       164  \n",
       "105683      153  \n",
       "35202       170  \n",
       "43172        38  \n",
       "26040       291  \n",
       "52304       258  \n",
       "100730      163  \n",
       "18314        62  \n",
       "120425      135  \n",
       "42160       175  \n",
       "65240       271  \n",
       "42562       131  \n",
       "21970       191  \n",
       "16520       177  \n",
       "22768        51  \n",
       "22326        87  \n",
       "22268       290  \n",
       "97118       293  \n",
       "58108       247  \n",
       "60451       134  \n",
       "58619        10  \n",
       "95206        48  \n",
       "44051       179  \n",
       "83358       114  \n",
       "6576        252  \n",
       "37927       181  \n",
       "14180        39  \n",
       "50915        95  \n",
       "73095       274  \n",
       "62209       233  \n",
       "98436        23  \n",
       "74136       112  \n",
       "32303        42  \n",
       "58575       212  \n",
       "115656      197  \n",
       "38388        59  \n",
       "37960       138  \n",
       "12728       191  \n",
       "59820        32  \n",
       "91893       200  \n",
       "63463        42  "
      ]
     },
     "execution_count": 56,
     "metadata": {},
     "output_type": "execute_result"
    }
   ],
   "source": [
    "df_test = pd.read_csv (\"C:\\\\Users\\\\victo\\\\repos\\\\comunidade_ds\\\\pa_health_insurance_cross_sell\\\\data\\\\raw\\\\test.csv\")\n",
    "df_test = df_test.sample(50, random_state=42)\n",
    "df_test"
   ]
  },
  {
   "cell_type": "code",
   "execution_count": null,
   "id": "01ca9343",
   "metadata": {
    "hidden": true
   },
   "outputs": [],
   "source": [
    "data = json.dumps( df_test.to_dict( orient='records' ) )\n",
    "\n",
    "url = 'https://health-insurance-cross-sell-dvkh.onrender.com/predict'\n",
    "header = {'Content-type': 'application/json' }\n",
    "\n",
    "r = requests.post( url, data=data, headers=header )\n",
    "print( 'Status Code {}'.format( r.status_code ) )\n",
    "\n",
    "d1 = pd.DataFrame( r.json(), columns=r.json()[0].keys() )\n",
    "\n",
    "d1"
   ]
  }
 ],
 "metadata": {
  "kernelspec": {
   "display_name": "Python 3 (ipykernel)",
   "language": "python",
   "name": "python3"
  },
  "language_info": {
   "codemirror_mode": {
    "name": "ipython",
    "version": 3
   },
   "file_extension": ".py",
   "mimetype": "text/x-python",
   "name": "python",
   "nbconvert_exporter": "python",
   "pygments_lexer": "ipython3",
   "version": "3.10.9"
  },
  "varInspector": {
   "cols": {
    "lenName": 16,
    "lenType": 16,
    "lenVar": 40
   },
   "kernels_config": {
    "python": {
     "delete_cmd_postfix": "",
     "delete_cmd_prefix": "del ",
     "library": "var_list.py",
     "varRefreshCmd": "print(var_dic_list())"
    },
    "r": {
     "delete_cmd_postfix": ") ",
     "delete_cmd_prefix": "rm(",
     "library": "var_list.r",
     "varRefreshCmd": "cat(var_dic_list()) "
    }
   },
   "types_to_exclude": [
    "module",
    "function",
    "builtin_function_or_method",
    "instance",
    "_Feature"
   ],
   "window_display": false
  }
 },
 "nbformat": 4,
 "nbformat_minor": 5
}
